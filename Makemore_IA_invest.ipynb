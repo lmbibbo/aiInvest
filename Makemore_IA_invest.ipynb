{
  "nbformat": 4,
  "nbformat_minor": 0,
  "metadata": {
    "colab": {
      "provenance": [],
      "authorship_tag": "ABX9TyOBHiw0YDp2NKKAhPA10S+w",
      "include_colab_link": true
    },
    "kernelspec": {
      "name": "python3",
      "display_name": "Python 3"
    },
    "language_info": {
      "name": "python"
    }
  },
  "cells": [
    {
      "cell_type": "markdown",
      "metadata": {
        "id": "view-in-github",
        "colab_type": "text"
      },
      "source": [
        "<a href=\"https://colab.research.google.com/github/lmbibbo/aiInvest/blob/main/Makemore_IA_invest.ipynb\" target=\"_parent\"><img src=\"https://colab.research.google.com/assets/colab-badge.svg\" alt=\"Open In Colab\"/></a>"
      ]
    },
    {
      "cell_type": "markdown",
      "source": [
        "# Librerías\n"
      ],
      "metadata": {
        "id": "b5V699XkaLhd"
      }
    },
    {
      "cell_type": "code",
      "source": [
        "import pandas as pd\n",
        "import numpy as np\n",
        "import requests\n",
        "from datetime import datetime, timedelta\n",
        "\n",
        "access_token = '1d72eb6a5f9578d9d4e55642f0ab3b690328cf8a'\n",
        "\n",
        "def load_especie(especie, access_token):\n",
        "    url = 'https://clasico.rava.com/lib/restapi/v3/publico/cotizaciones/historicos'\n",
        "    fecha_fin = datetime.today().date()\n",
        "    fecha_inicio = fecha_fin - timedelta(days=500)\n",
        "    fecha_fin_yyyymmdd = fecha_fin.strftime('%Y-%m-%d')\n",
        "    fecha_inicio_yyyymmdd = fecha_inicio.strftime('%Y-%m-%d')\n",
        "\n",
        "    data = {}\n",
        "    data[\"access_token\"] = access_token\n",
        "    data[\"especie\"] = especie\n",
        "    data[\"fecha_inicio\"] = fecha_inicio_yyyymmdd\n",
        "    data[\"fecha_fin\"] = fecha_fin_yyyymmdd\n",
        "    response = requests.post(url, data=data)\n",
        "    if response.status_code == 200:\n",
        "        # Guardar el contenido de la respuesta en un archivo\n",
        "        data_json = response.json()\n",
        "        body = data_json.get('body', None)\n",
        "        if body:\n",
        "            df = pd.DataFrame(body)\n",
        "            df = convertir_rava(df)\n",
        "        else:\n",
        "            print(\"Error: No se encuentra el body del archivo.\")\n",
        "        print(\"Archivo descargado exitosamente.\")\n",
        "    else:\n",
        "        print(\"Error al descargar el archivo:\", response.status_code)\n",
        "    return df"
      ],
      "metadata": {
        "id": "AzCUvthkaSr0"
      },
      "execution_count": null,
      "outputs": []
    },
    {
      "cell_type": "code",
      "source": [
        "def recortar(df, dias):\n",
        "#    df = df.set_index('FECHA')\n",
        "    df = df.sort_values(by=['FECHA'])\n",
        "#    df = df.tail(dias)\n",
        "#    df = df.reset_index()\n",
        "    df = df.iloc[-dias:]\n",
        "    df = normalizar(df)\n",
        "\n",
        "    return df"
      ],
      "metadata": {
        "id": "ztYs4iEMaYMj"
      },
      "execution_count": null,
      "outputs": []
    },
    {
      "cell_type": "code",
      "source": [
        "def read_data(file):\n",
        "    filas = 365\n",
        "    df = pd.read_csv(file, skiprows=lambda x: x != 0 and x < (filas * -1))\n",
        "    return df\n",
        "\n",
        "def clasificar(simbolo):\n",
        "    if simbolo in ['BBAR', 'BMA', 'VALO', 'SUPV', 'GGAL']:\n",
        "        return 'BANCOS'\n",
        "    elif simbolo in ['ALUA', 'LOMA', 'TXAR']:\n",
        "        return 'CONSTRUCCION'\n",
        "    elif simbolo in ['CEPU', 'EDN', 'PAMP', 'TGNO4', 'TGSU2', 'TRAN', 'YPFD']:\n",
        "        return 'ENERGIA'\n",
        "    elif simbolo in ['COME', 'MIRG', 'BYMA']:\n",
        "        return 'COMERCIO'\n",
        "    elif simbolo in ['AGRO', 'CRES']:\n",
        "        return 'AGRO'\n",
        "    elif simbolo in ['TECO2']:\n",
        "        return 'TELECOMUNICACIONES'\n",
        "    else:\n",
        "        return 'Desconocido'\n",
        "\n",
        "\n",
        "def convertir_rava(df):\n",
        "    df.columns = df.columns.str.upper()\n",
        "    #df.drop(['VARMTD', 'VARYTD', 'VAR6M', 'VAR12M', 'HORA', 'TIMESTAMP'], axis=1)\n",
        "    df['FECHA'] = pd.to_datetime(df['FECHA'], format='%Y-%m-%d')\n",
        "    df['CIERRE'] = df['CIERRE'].astype(float)\n",
        "    df['APERTURA'] = df['APERTURA'].astype(float)\n",
        "    df['RESULTADO'] = df['CIERRE'] - df['APERTURA']\n",
        "    df['PORCENTAJE'] = ((df['CIERRE'] - df['APERTURA']) / df['APERTURA'])\n",
        "    #df['CIERRE1'] = df['CIERRE'].shift(-1)\n",
        "    #df['CIERRE3'] = df['CIERRE'].shift(-3)\n",
        "    #df['CIERRE5'] = df['CIERRE'].shift(-5)\n",
        "    #df['CIERRE9'] = df['CIERRE'].shift(-9)\n",
        "    #df['TARGET1'] = (df['CIERRE1'] > df['CIERRE']).astype(int)\n",
        "    #df['TARGET3'] = (df['CIERRE3'] > df['CIERRE1']).astype(int)\n",
        "    #df['TARGET5'] = (df['CIERRE5'] > df['CIERRE3']).astype(int)\n",
        "    #df['TARGET9'] = (df['CIERRE9'] > df['CIERRE5']).astype(int)\n",
        "    df.dropna()\n",
        "    return df\n",
        "\n",
        "\n",
        "def convertir(df):\n",
        "    df['FECHA'] = pd.to_datetime(df['FECHA'], format='%Y-%m-%d')\n",
        "    df['CIERRE'] = df['CIERRE'].str.replace(',', '.').astype(float)\n",
        "    df['APERTURA'] = df['APERTURA'].str.replace(',', '.').astype(float)\n",
        "    df['MAXIMO'] = df['MAXIMO'].str.replace(',', '.').astype(float)\n",
        "    df['MINIMO'] = df['MINIMO'].str.replace(',', '.').astype(float)\n",
        "    df['RESULTADO'] = df['CIERRE'] - df['APERTURA']\n",
        "    df['PORCENTAJE'] = ((df['CIERRE'] - df['APERTURA']) / df['APERTURA'])\n",
        "    # df['RES_PESADO'] = df['RESULTADO'] * df['MONTO NEGOCIADO']\n",
        "    df['CLASE'] = df['SIMBOLO'].apply(clasificar)\n",
        "    #df['TOMORROW'] = df['CIERRE']-df['CIERRE'].shift(-1)\n",
        "    return df\n",
        "\n",
        "\n",
        "def norma_key(df, clave, rango=0):\n",
        "    v_min = np.min(df[clave])\n",
        "    v_max = np.max(df[clave])\n",
        "\n",
        "    #df[clave + '_N'] = (((df[clave] - v_min) * (rango+1)) / (v_max - v_min))-rango # Normalización por rango\n",
        "    df[clave + '_N'] = ((df[clave] - df[clave].mean()) / df[clave].std()).round(2)  # Normalización por z-score o Gaussian normalization\n",
        "    return df\n",
        "\n",
        "\n",
        "def normalizar(df):\n",
        "    df_ret = pd.DataFrame(df)\n",
        "    norma_key(df_ret, 'CIERRE', 1)\n",
        "    #norma_key(df_ret, 'APERTURA', 1)\n",
        "    #norma_key(df_ret, 'MAXIMO', 1)\n",
        "    #norma_key(df_ret, 'MINIMO', 1)\n",
        "    # norma_key(df_ret, 'PRECIO PROMEDIO', 1)\n",
        "    # norma_key(df_ret, 'VOLUMEN NOMINAL', 1)\n",
        "    # norma_key(df_ret, 'MONTO NEGOCIADO', 1)\n",
        "    norma_key(df_ret, 'RESULTADO', 1)\n",
        "    # norma_key(df_ret, 'RES_PESADO', 1)\n",
        "    # norma_key(df_ret, 'BULLISH', 0)\n",
        "    # norma_key(df_ret, 'BEARISH', 0)\n",
        "    return df_ret"
      ],
      "metadata": {
        "id": "hO84c7A0avjr"
      },
      "execution_count": null,
      "outputs": []
    },
    {
      "cell_type": "markdown",
      "source": [
        "Importamos las librerías"
      ],
      "metadata": {
        "id": "8gulwXu6g69B"
      }
    },
    {
      "cell_type": "code",
      "source": [
        "import matplotlib.pyplot as plt"
      ],
      "metadata": {
        "id": "Mu0mwaO_VVL1"
      },
      "execution_count": null,
      "outputs": []
    },
    {
      "cell_type": "markdown",
      "source": [
        "Inicializamos algunas variables\n"
      ],
      "metadata": {
        "id": "Z7kF_pnGg_ct"
      }
    },
    {
      "cell_type": "markdown",
      "source": [
        "Cargamos los datos"
      ],
      "metadata": {
        "id": "yjU9Jgr7hP27"
      }
    },
    {
      "cell_type": "code",
      "source": [
        "df_dmep_original = load_especie(\"DOLAR MEP\", access_token)\n",
        "df_djones_original = load_especie(\"DIA_US\", access_token)\n",
        "df_merval_original = load_especie('MERVAL', access_token)\n",
        "df_doficial_original = load_especie('DOLAR OFICIAL', access_token)\n",
        "df_ypfd_original = load_especie('YPFD', access_token)\n",
        "df_edn_original = load_especie('EDN', access_token)\n",
        "df_bbar_original = load_especie('BBAR', access_token)"
      ],
      "metadata": {
        "colab": {
          "base_uri": "https://localhost:8080/"
        },
        "id": "sZ4RyKWBdZ-Q",
        "outputId": "e46b5dc5-b2cf-4012-ca0c-a613dfcb7f11"
      },
      "execution_count": null,
      "outputs": [
        {
          "output_type": "stream",
          "name": "stdout",
          "text": [
            "Archivo descargado exitosamente.\n",
            "Archivo descargado exitosamente.\n",
            "Archivo descargado exitosamente.\n",
            "Archivo descargado exitosamente.\n",
            "Archivo descargado exitosamente.\n",
            "Archivo descargado exitosamente.\n",
            "Archivo descargado exitosamente.\n"
          ]
        }
      ]
    },
    {
      "cell_type": "code",
      "source": [
        "dias = 1450\n",
        "df_ypfd = recortar(df_ypfd_original, dias)\n",
        "df_dmep = recortar(df_dmep_original, dias)\n",
        "df_doficial = recortar(df_doficial_original, dias + (int(dias/7)*2))\n",
        "df_merval = recortar(df_merval_original, dias)\n",
        "df_djones = recortar(df_djones_original, dias)\n",
        "df_edn = recortar(df_edn_original, dias)\n",
        "df_bbar = recortar(df_bbar_original, dias)"
      ],
      "metadata": {
        "id": "YpzIgvFIN-_X"
      },
      "execution_count": null,
      "outputs": []
    },
    {
      "cell_type": "code",
      "source": [
        "df_dmep"
      ],
      "metadata": {
        "id": "lzzmnenT87cc",
        "outputId": "e7ba14ed-39b3-4acb-ba90-9a94aa553062",
        "colab": {
          "base_uri": "https://localhost:8080/",
          "height": 617
        }
      },
      "execution_count": null,
      "outputs": [
        {
          "output_type": "execute_result",
          "data": {
            "text/plain": [
              "       ESPECIE   ULTIMO VARIACION ANTERIOR  APERTURA   MINIMO   MAXIMO VARMTD  \\\n",
              "0    DOLAR MEP   408.86       3.4   395.45    395.45   395.06   412.69          \n",
              "1    DOLAR MEP   409.77       0.2   408.86    408.86   408.86   428.69          \n",
              "2    DOLAR MEP    421.9         3   409.77    409.77   407.86   423.01          \n",
              "3    DOLAR MEP   437.75       3.8    421.9    421.90   419.23   445.18          \n",
              "4    DOLAR MEP   449.02       2.6   437.75    437.75   429.31   450.53          \n",
              "..         ...      ...       ...      ...       ...      ...      ...    ...   \n",
              "329  DOLAR MEP   1282.7        -0  1283.23   1283.23  1280.71  1289.98          \n",
              "330  DOLAR MEP  1288.25       0.4   1282.7   1282.70  1282.47  1288.54          \n",
              "331  DOLAR MEP  1286.19      -0.2  1288.25   1288.25  1283.82  1293.10          \n",
              "332  DOLAR MEP  1282.19      -0.3  1286.19   1286.19  1280.64  1296.25          \n",
              "333  DOLAR MEP  1271.33      -0.8  1282.19   1282.19  1268.93  1291.05          \n",
              "\n",
              "    VARYTD VAR6M VAR12M      FECHA   HORA   CIERRE   TIMESTAMP  VOLUMEN  \\\n",
              "0                       2023-04-18  19:59   408.86  1681786800        0   \n",
              "1                       2023-04-19  19:59   409.77  1681873200        0   \n",
              "2                       2023-04-20  19:59   421.90  1681959600        0   \n",
              "3                       2023-04-21  19:59   437.75  1682046000        0   \n",
              "4                       2023-04-24  19:59   449.02  1682305200        0   \n",
              "..     ...   ...    ...        ...    ...      ...         ...      ...   \n",
              "329                     2024-08-23  19:59  1282.70  1724382000        0   \n",
              "330                     2024-08-26  19:59  1288.25  1724641200        0   \n",
              "331                     2024-08-27  19:59  1286.19  1724727600        0   \n",
              "332                     2024-08-28  19:59  1282.19  1724814000        0   \n",
              "333                     2024-08-29  19:59  1271.33  1724900400        0   \n",
              "\n",
              "     RESULTADO  PORCENTAJE  CIERRE_N  RESULTADO_N  \n",
              "0        13.41    0.033911     -1.63         0.54  \n",
              "1         0.91    0.002226     -1.62        -0.07  \n",
              "2        12.13    0.029602     -1.58         0.48  \n",
              "3        15.85    0.037568     -1.53         0.66  \n",
              "4        11.27    0.025745     -1.50         0.44  \n",
              "..         ...         ...       ...          ...  \n",
              "329      -0.53   -0.000413      1.23        -0.14  \n",
              "330       5.55    0.004327      1.25         0.16  \n",
              "331      -2.06   -0.001599      1.24        -0.21  \n",
              "332      -4.00   -0.003110      1.23        -0.31  \n",
              "333     -10.86   -0.008470      1.19        -0.64  \n",
              "\n",
              "[334 rows x 20 columns]"
            ],
            "text/html": [
              "\n",
              "  <div id=\"df-b9fb720a-7f69-4ecf-9ef7-e9e59bce61fc\" class=\"colab-df-container\">\n",
              "    <div>\n",
              "<style scoped>\n",
              "    .dataframe tbody tr th:only-of-type {\n",
              "        vertical-align: middle;\n",
              "    }\n",
              "\n",
              "    .dataframe tbody tr th {\n",
              "        vertical-align: top;\n",
              "    }\n",
              "\n",
              "    .dataframe thead th {\n",
              "        text-align: right;\n",
              "    }\n",
              "</style>\n",
              "<table border=\"1\" class=\"dataframe\">\n",
              "  <thead>\n",
              "    <tr style=\"text-align: right;\">\n",
              "      <th></th>\n",
              "      <th>ESPECIE</th>\n",
              "      <th>ULTIMO</th>\n",
              "      <th>VARIACION</th>\n",
              "      <th>ANTERIOR</th>\n",
              "      <th>APERTURA</th>\n",
              "      <th>MINIMO</th>\n",
              "      <th>MAXIMO</th>\n",
              "      <th>VARMTD</th>\n",
              "      <th>VARYTD</th>\n",
              "      <th>VAR6M</th>\n",
              "      <th>VAR12M</th>\n",
              "      <th>FECHA</th>\n",
              "      <th>HORA</th>\n",
              "      <th>CIERRE</th>\n",
              "      <th>TIMESTAMP</th>\n",
              "      <th>VOLUMEN</th>\n",
              "      <th>RESULTADO</th>\n",
              "      <th>PORCENTAJE</th>\n",
              "      <th>CIERRE_N</th>\n",
              "      <th>RESULTADO_N</th>\n",
              "    </tr>\n",
              "  </thead>\n",
              "  <tbody>\n",
              "    <tr>\n",
              "      <th>0</th>\n",
              "      <td>DOLAR MEP</td>\n",
              "      <td>408.86</td>\n",
              "      <td>3.4</td>\n",
              "      <td>395.45</td>\n",
              "      <td>395.45</td>\n",
              "      <td>395.06</td>\n",
              "      <td>412.69</td>\n",
              "      <td></td>\n",
              "      <td></td>\n",
              "      <td></td>\n",
              "      <td></td>\n",
              "      <td>2023-04-18</td>\n",
              "      <td>19:59</td>\n",
              "      <td>408.86</td>\n",
              "      <td>1681786800</td>\n",
              "      <td>0</td>\n",
              "      <td>13.41</td>\n",
              "      <td>0.033911</td>\n",
              "      <td>-1.63</td>\n",
              "      <td>0.54</td>\n",
              "    </tr>\n",
              "    <tr>\n",
              "      <th>1</th>\n",
              "      <td>DOLAR MEP</td>\n",
              "      <td>409.77</td>\n",
              "      <td>0.2</td>\n",
              "      <td>408.86</td>\n",
              "      <td>408.86</td>\n",
              "      <td>408.86</td>\n",
              "      <td>428.69</td>\n",
              "      <td></td>\n",
              "      <td></td>\n",
              "      <td></td>\n",
              "      <td></td>\n",
              "      <td>2023-04-19</td>\n",
              "      <td>19:59</td>\n",
              "      <td>409.77</td>\n",
              "      <td>1681873200</td>\n",
              "      <td>0</td>\n",
              "      <td>0.91</td>\n",
              "      <td>0.002226</td>\n",
              "      <td>-1.62</td>\n",
              "      <td>-0.07</td>\n",
              "    </tr>\n",
              "    <tr>\n",
              "      <th>2</th>\n",
              "      <td>DOLAR MEP</td>\n",
              "      <td>421.9</td>\n",
              "      <td>3</td>\n",
              "      <td>409.77</td>\n",
              "      <td>409.77</td>\n",
              "      <td>407.86</td>\n",
              "      <td>423.01</td>\n",
              "      <td></td>\n",
              "      <td></td>\n",
              "      <td></td>\n",
              "      <td></td>\n",
              "      <td>2023-04-20</td>\n",
              "      <td>19:59</td>\n",
              "      <td>421.90</td>\n",
              "      <td>1681959600</td>\n",
              "      <td>0</td>\n",
              "      <td>12.13</td>\n",
              "      <td>0.029602</td>\n",
              "      <td>-1.58</td>\n",
              "      <td>0.48</td>\n",
              "    </tr>\n",
              "    <tr>\n",
              "      <th>3</th>\n",
              "      <td>DOLAR MEP</td>\n",
              "      <td>437.75</td>\n",
              "      <td>3.8</td>\n",
              "      <td>421.9</td>\n",
              "      <td>421.90</td>\n",
              "      <td>419.23</td>\n",
              "      <td>445.18</td>\n",
              "      <td></td>\n",
              "      <td></td>\n",
              "      <td></td>\n",
              "      <td></td>\n",
              "      <td>2023-04-21</td>\n",
              "      <td>19:59</td>\n",
              "      <td>437.75</td>\n",
              "      <td>1682046000</td>\n",
              "      <td>0</td>\n",
              "      <td>15.85</td>\n",
              "      <td>0.037568</td>\n",
              "      <td>-1.53</td>\n",
              "      <td>0.66</td>\n",
              "    </tr>\n",
              "    <tr>\n",
              "      <th>4</th>\n",
              "      <td>DOLAR MEP</td>\n",
              "      <td>449.02</td>\n",
              "      <td>2.6</td>\n",
              "      <td>437.75</td>\n",
              "      <td>437.75</td>\n",
              "      <td>429.31</td>\n",
              "      <td>450.53</td>\n",
              "      <td></td>\n",
              "      <td></td>\n",
              "      <td></td>\n",
              "      <td></td>\n",
              "      <td>2023-04-24</td>\n",
              "      <td>19:59</td>\n",
              "      <td>449.02</td>\n",
              "      <td>1682305200</td>\n",
              "      <td>0</td>\n",
              "      <td>11.27</td>\n",
              "      <td>0.025745</td>\n",
              "      <td>-1.50</td>\n",
              "      <td>0.44</td>\n",
              "    </tr>\n",
              "    <tr>\n",
              "      <th>...</th>\n",
              "      <td>...</td>\n",
              "      <td>...</td>\n",
              "      <td>...</td>\n",
              "      <td>...</td>\n",
              "      <td>...</td>\n",
              "      <td>...</td>\n",
              "      <td>...</td>\n",
              "      <td>...</td>\n",
              "      <td>...</td>\n",
              "      <td>...</td>\n",
              "      <td>...</td>\n",
              "      <td>...</td>\n",
              "      <td>...</td>\n",
              "      <td>...</td>\n",
              "      <td>...</td>\n",
              "      <td>...</td>\n",
              "      <td>...</td>\n",
              "      <td>...</td>\n",
              "      <td>...</td>\n",
              "      <td>...</td>\n",
              "    </tr>\n",
              "    <tr>\n",
              "      <th>329</th>\n",
              "      <td>DOLAR MEP</td>\n",
              "      <td>1282.7</td>\n",
              "      <td>-0</td>\n",
              "      <td>1283.23</td>\n",
              "      <td>1283.23</td>\n",
              "      <td>1280.71</td>\n",
              "      <td>1289.98</td>\n",
              "      <td></td>\n",
              "      <td></td>\n",
              "      <td></td>\n",
              "      <td></td>\n",
              "      <td>2024-08-23</td>\n",
              "      <td>19:59</td>\n",
              "      <td>1282.70</td>\n",
              "      <td>1724382000</td>\n",
              "      <td>0</td>\n",
              "      <td>-0.53</td>\n",
              "      <td>-0.000413</td>\n",
              "      <td>1.23</td>\n",
              "      <td>-0.14</td>\n",
              "    </tr>\n",
              "    <tr>\n",
              "      <th>330</th>\n",
              "      <td>DOLAR MEP</td>\n",
              "      <td>1288.25</td>\n",
              "      <td>0.4</td>\n",
              "      <td>1282.7</td>\n",
              "      <td>1282.70</td>\n",
              "      <td>1282.47</td>\n",
              "      <td>1288.54</td>\n",
              "      <td></td>\n",
              "      <td></td>\n",
              "      <td></td>\n",
              "      <td></td>\n",
              "      <td>2024-08-26</td>\n",
              "      <td>19:59</td>\n",
              "      <td>1288.25</td>\n",
              "      <td>1724641200</td>\n",
              "      <td>0</td>\n",
              "      <td>5.55</td>\n",
              "      <td>0.004327</td>\n",
              "      <td>1.25</td>\n",
              "      <td>0.16</td>\n",
              "    </tr>\n",
              "    <tr>\n",
              "      <th>331</th>\n",
              "      <td>DOLAR MEP</td>\n",
              "      <td>1286.19</td>\n",
              "      <td>-0.2</td>\n",
              "      <td>1288.25</td>\n",
              "      <td>1288.25</td>\n",
              "      <td>1283.82</td>\n",
              "      <td>1293.10</td>\n",
              "      <td></td>\n",
              "      <td></td>\n",
              "      <td></td>\n",
              "      <td></td>\n",
              "      <td>2024-08-27</td>\n",
              "      <td>19:59</td>\n",
              "      <td>1286.19</td>\n",
              "      <td>1724727600</td>\n",
              "      <td>0</td>\n",
              "      <td>-2.06</td>\n",
              "      <td>-0.001599</td>\n",
              "      <td>1.24</td>\n",
              "      <td>-0.21</td>\n",
              "    </tr>\n",
              "    <tr>\n",
              "      <th>332</th>\n",
              "      <td>DOLAR MEP</td>\n",
              "      <td>1282.19</td>\n",
              "      <td>-0.3</td>\n",
              "      <td>1286.19</td>\n",
              "      <td>1286.19</td>\n",
              "      <td>1280.64</td>\n",
              "      <td>1296.25</td>\n",
              "      <td></td>\n",
              "      <td></td>\n",
              "      <td></td>\n",
              "      <td></td>\n",
              "      <td>2024-08-28</td>\n",
              "      <td>19:59</td>\n",
              "      <td>1282.19</td>\n",
              "      <td>1724814000</td>\n",
              "      <td>0</td>\n",
              "      <td>-4.00</td>\n",
              "      <td>-0.003110</td>\n",
              "      <td>1.23</td>\n",
              "      <td>-0.31</td>\n",
              "    </tr>\n",
              "    <tr>\n",
              "      <th>333</th>\n",
              "      <td>DOLAR MEP</td>\n",
              "      <td>1271.33</td>\n",
              "      <td>-0.8</td>\n",
              "      <td>1282.19</td>\n",
              "      <td>1282.19</td>\n",
              "      <td>1268.93</td>\n",
              "      <td>1291.05</td>\n",
              "      <td></td>\n",
              "      <td></td>\n",
              "      <td></td>\n",
              "      <td></td>\n",
              "      <td>2024-08-29</td>\n",
              "      <td>19:59</td>\n",
              "      <td>1271.33</td>\n",
              "      <td>1724900400</td>\n",
              "      <td>0</td>\n",
              "      <td>-10.86</td>\n",
              "      <td>-0.008470</td>\n",
              "      <td>1.19</td>\n",
              "      <td>-0.64</td>\n",
              "    </tr>\n",
              "  </tbody>\n",
              "</table>\n",
              "<p>334 rows × 20 columns</p>\n",
              "</div>\n",
              "    <div class=\"colab-df-buttons\">\n",
              "\n",
              "  <div class=\"colab-df-container\">\n",
              "    <button class=\"colab-df-convert\" onclick=\"convertToInteractive('df-b9fb720a-7f69-4ecf-9ef7-e9e59bce61fc')\"\n",
              "            title=\"Convert this dataframe to an interactive table.\"\n",
              "            style=\"display:none;\">\n",
              "\n",
              "  <svg xmlns=\"http://www.w3.org/2000/svg\" height=\"24px\" viewBox=\"0 -960 960 960\">\n",
              "    <path d=\"M120-120v-720h720v720H120Zm60-500h600v-160H180v160Zm220 220h160v-160H400v160Zm0 220h160v-160H400v160ZM180-400h160v-160H180v160Zm440 0h160v-160H620v160ZM180-180h160v-160H180v160Zm440 0h160v-160H620v160Z\"/>\n",
              "  </svg>\n",
              "    </button>\n",
              "\n",
              "  <style>\n",
              "    .colab-df-container {\n",
              "      display:flex;\n",
              "      gap: 12px;\n",
              "    }\n",
              "\n",
              "    .colab-df-convert {\n",
              "      background-color: #E8F0FE;\n",
              "      border: none;\n",
              "      border-radius: 50%;\n",
              "      cursor: pointer;\n",
              "      display: none;\n",
              "      fill: #1967D2;\n",
              "      height: 32px;\n",
              "      padding: 0 0 0 0;\n",
              "      width: 32px;\n",
              "    }\n",
              "\n",
              "    .colab-df-convert:hover {\n",
              "      background-color: #E2EBFA;\n",
              "      box-shadow: 0px 1px 2px rgba(60, 64, 67, 0.3), 0px 1px 3px 1px rgba(60, 64, 67, 0.15);\n",
              "      fill: #174EA6;\n",
              "    }\n",
              "\n",
              "    .colab-df-buttons div {\n",
              "      margin-bottom: 4px;\n",
              "    }\n",
              "\n",
              "    [theme=dark] .colab-df-convert {\n",
              "      background-color: #3B4455;\n",
              "      fill: #D2E3FC;\n",
              "    }\n",
              "\n",
              "    [theme=dark] .colab-df-convert:hover {\n",
              "      background-color: #434B5C;\n",
              "      box-shadow: 0px 1px 3px 1px rgba(0, 0, 0, 0.15);\n",
              "      filter: drop-shadow(0px 1px 2px rgba(0, 0, 0, 0.3));\n",
              "      fill: #FFFFFF;\n",
              "    }\n",
              "  </style>\n",
              "\n",
              "    <script>\n",
              "      const buttonEl =\n",
              "        document.querySelector('#df-b9fb720a-7f69-4ecf-9ef7-e9e59bce61fc button.colab-df-convert');\n",
              "      buttonEl.style.display =\n",
              "        google.colab.kernel.accessAllowed ? 'block' : 'none';\n",
              "\n",
              "      async function convertToInteractive(key) {\n",
              "        const element = document.querySelector('#df-b9fb720a-7f69-4ecf-9ef7-e9e59bce61fc');\n",
              "        const dataTable =\n",
              "          await google.colab.kernel.invokeFunction('convertToInteractive',\n",
              "                                                    [key], {});\n",
              "        if (!dataTable) return;\n",
              "\n",
              "        const docLinkHtml = 'Like what you see? Visit the ' +\n",
              "          '<a target=\"_blank\" href=https://colab.research.google.com/notebooks/data_table.ipynb>data table notebook</a>'\n",
              "          + ' to learn more about interactive tables.';\n",
              "        element.innerHTML = '';\n",
              "        dataTable['output_type'] = 'display_data';\n",
              "        await google.colab.output.renderOutput(dataTable, element);\n",
              "        const docLink = document.createElement('div');\n",
              "        docLink.innerHTML = docLinkHtml;\n",
              "        element.appendChild(docLink);\n",
              "      }\n",
              "    </script>\n",
              "  </div>\n",
              "\n",
              "\n",
              "<div id=\"df-7993a8ca-eb63-40c6-b47e-c6a7a5816ccd\">\n",
              "  <button class=\"colab-df-quickchart\" onclick=\"quickchart('df-7993a8ca-eb63-40c6-b47e-c6a7a5816ccd')\"\n",
              "            title=\"Suggest charts\"\n",
              "            style=\"display:none;\">\n",
              "\n",
              "<svg xmlns=\"http://www.w3.org/2000/svg\" height=\"24px\"viewBox=\"0 0 24 24\"\n",
              "     width=\"24px\">\n",
              "    <g>\n",
              "        <path d=\"M19 3H5c-1.1 0-2 .9-2 2v14c0 1.1.9 2 2 2h14c1.1 0 2-.9 2-2V5c0-1.1-.9-2-2-2zM9 17H7v-7h2v7zm4 0h-2V7h2v10zm4 0h-2v-4h2v4z\"/>\n",
              "    </g>\n",
              "</svg>\n",
              "  </button>\n",
              "\n",
              "<style>\n",
              "  .colab-df-quickchart {\n",
              "      --bg-color: #E8F0FE;\n",
              "      --fill-color: #1967D2;\n",
              "      --hover-bg-color: #E2EBFA;\n",
              "      --hover-fill-color: #174EA6;\n",
              "      --disabled-fill-color: #AAA;\n",
              "      --disabled-bg-color: #DDD;\n",
              "  }\n",
              "\n",
              "  [theme=dark] .colab-df-quickchart {\n",
              "      --bg-color: #3B4455;\n",
              "      --fill-color: #D2E3FC;\n",
              "      --hover-bg-color: #434B5C;\n",
              "      --hover-fill-color: #FFFFFF;\n",
              "      --disabled-bg-color: #3B4455;\n",
              "      --disabled-fill-color: #666;\n",
              "  }\n",
              "\n",
              "  .colab-df-quickchart {\n",
              "    background-color: var(--bg-color);\n",
              "    border: none;\n",
              "    border-radius: 50%;\n",
              "    cursor: pointer;\n",
              "    display: none;\n",
              "    fill: var(--fill-color);\n",
              "    height: 32px;\n",
              "    padding: 0;\n",
              "    width: 32px;\n",
              "  }\n",
              "\n",
              "  .colab-df-quickchart:hover {\n",
              "    background-color: var(--hover-bg-color);\n",
              "    box-shadow: 0 1px 2px rgba(60, 64, 67, 0.3), 0 1px 3px 1px rgba(60, 64, 67, 0.15);\n",
              "    fill: var(--button-hover-fill-color);\n",
              "  }\n",
              "\n",
              "  .colab-df-quickchart-complete:disabled,\n",
              "  .colab-df-quickchart-complete:disabled:hover {\n",
              "    background-color: var(--disabled-bg-color);\n",
              "    fill: var(--disabled-fill-color);\n",
              "    box-shadow: none;\n",
              "  }\n",
              "\n",
              "  .colab-df-spinner {\n",
              "    border: 2px solid var(--fill-color);\n",
              "    border-color: transparent;\n",
              "    border-bottom-color: var(--fill-color);\n",
              "    animation:\n",
              "      spin 1s steps(1) infinite;\n",
              "  }\n",
              "\n",
              "  @keyframes spin {\n",
              "    0% {\n",
              "      border-color: transparent;\n",
              "      border-bottom-color: var(--fill-color);\n",
              "      border-left-color: var(--fill-color);\n",
              "    }\n",
              "    20% {\n",
              "      border-color: transparent;\n",
              "      border-left-color: var(--fill-color);\n",
              "      border-top-color: var(--fill-color);\n",
              "    }\n",
              "    30% {\n",
              "      border-color: transparent;\n",
              "      border-left-color: var(--fill-color);\n",
              "      border-top-color: var(--fill-color);\n",
              "      border-right-color: var(--fill-color);\n",
              "    }\n",
              "    40% {\n",
              "      border-color: transparent;\n",
              "      border-right-color: var(--fill-color);\n",
              "      border-top-color: var(--fill-color);\n",
              "    }\n",
              "    60% {\n",
              "      border-color: transparent;\n",
              "      border-right-color: var(--fill-color);\n",
              "    }\n",
              "    80% {\n",
              "      border-color: transparent;\n",
              "      border-right-color: var(--fill-color);\n",
              "      border-bottom-color: var(--fill-color);\n",
              "    }\n",
              "    90% {\n",
              "      border-color: transparent;\n",
              "      border-bottom-color: var(--fill-color);\n",
              "    }\n",
              "  }\n",
              "</style>\n",
              "\n",
              "  <script>\n",
              "    async function quickchart(key) {\n",
              "      const quickchartButtonEl =\n",
              "        document.querySelector('#' + key + ' button');\n",
              "      quickchartButtonEl.disabled = true;  // To prevent multiple clicks.\n",
              "      quickchartButtonEl.classList.add('colab-df-spinner');\n",
              "      try {\n",
              "        const charts = await google.colab.kernel.invokeFunction(\n",
              "            'suggestCharts', [key], {});\n",
              "      } catch (error) {\n",
              "        console.error('Error during call to suggestCharts:', error);\n",
              "      }\n",
              "      quickchartButtonEl.classList.remove('colab-df-spinner');\n",
              "      quickchartButtonEl.classList.add('colab-df-quickchart-complete');\n",
              "    }\n",
              "    (() => {\n",
              "      let quickchartButtonEl =\n",
              "        document.querySelector('#df-7993a8ca-eb63-40c6-b47e-c6a7a5816ccd button');\n",
              "      quickchartButtonEl.style.display =\n",
              "        google.colab.kernel.accessAllowed ? 'block' : 'none';\n",
              "    })();\n",
              "  </script>\n",
              "</div>\n",
              "\n",
              "  <div id=\"id_dff5e541-747e-4dd1-8baf-ec710a04ee5c\">\n",
              "    <style>\n",
              "      .colab-df-generate {\n",
              "        background-color: #E8F0FE;\n",
              "        border: none;\n",
              "        border-radius: 50%;\n",
              "        cursor: pointer;\n",
              "        display: none;\n",
              "        fill: #1967D2;\n",
              "        height: 32px;\n",
              "        padding: 0 0 0 0;\n",
              "        width: 32px;\n",
              "      }\n",
              "\n",
              "      .colab-df-generate:hover {\n",
              "        background-color: #E2EBFA;\n",
              "        box-shadow: 0px 1px 2px rgba(60, 64, 67, 0.3), 0px 1px 3px 1px rgba(60, 64, 67, 0.15);\n",
              "        fill: #174EA6;\n",
              "      }\n",
              "\n",
              "      [theme=dark] .colab-df-generate {\n",
              "        background-color: #3B4455;\n",
              "        fill: #D2E3FC;\n",
              "      }\n",
              "\n",
              "      [theme=dark] .colab-df-generate:hover {\n",
              "        background-color: #434B5C;\n",
              "        box-shadow: 0px 1px 3px 1px rgba(0, 0, 0, 0.15);\n",
              "        filter: drop-shadow(0px 1px 2px rgba(0, 0, 0, 0.3));\n",
              "        fill: #FFFFFF;\n",
              "      }\n",
              "    </style>\n",
              "    <button class=\"colab-df-generate\" onclick=\"generateWithVariable('df_dmep')\"\n",
              "            title=\"Generate code using this dataframe.\"\n",
              "            style=\"display:none;\">\n",
              "\n",
              "  <svg xmlns=\"http://www.w3.org/2000/svg\" height=\"24px\"viewBox=\"0 0 24 24\"\n",
              "       width=\"24px\">\n",
              "    <path d=\"M7,19H8.4L18.45,9,17,7.55,7,17.6ZM5,21V16.75L18.45,3.32a2,2,0,0,1,2.83,0l1.4,1.43a1.91,1.91,0,0,1,.58,1.4,1.91,1.91,0,0,1-.58,1.4L9.25,21ZM18.45,9,17,7.55Zm-12,3A5.31,5.31,0,0,0,4.9,8.1,5.31,5.31,0,0,0,1,6.5,5.31,5.31,0,0,0,4.9,4.9,5.31,5.31,0,0,0,6.5,1,5.31,5.31,0,0,0,8.1,4.9,5.31,5.31,0,0,0,12,6.5,5.46,5.46,0,0,0,6.5,12Z\"/>\n",
              "  </svg>\n",
              "    </button>\n",
              "    <script>\n",
              "      (() => {\n",
              "      const buttonEl =\n",
              "        document.querySelector('#id_dff5e541-747e-4dd1-8baf-ec710a04ee5c button.colab-df-generate');\n",
              "      buttonEl.style.display =\n",
              "        google.colab.kernel.accessAllowed ? 'block' : 'none';\n",
              "\n",
              "      buttonEl.onclick = () => {\n",
              "        google.colab.notebook.generateWithVariable('df_dmep');\n",
              "      }\n",
              "      })();\n",
              "    </script>\n",
              "  </div>\n",
              "\n",
              "    </div>\n",
              "  </div>\n"
            ],
            "application/vnd.google.colaboratory.intrinsic+json": {
              "type": "dataframe",
              "variable_name": "df_dmep",
              "summary": "{\n  \"name\": \"df_dmep\",\n  \"rows\": 334,\n  \"fields\": [\n    {\n      \"column\": \"ESPECIE\",\n      \"properties\": {\n        \"dtype\": \"category\",\n        \"num_unique_values\": 1,\n        \"samples\": [\n          \"DOLAR MEP\"\n        ],\n        \"semantic_type\": \"\",\n        \"description\": \"\"\n      }\n    },\n    {\n      \"column\": \"ULTIMO\",\n      \"properties\": {\n        \"dtype\": \"string\",\n        \"num_unique_values\": 332,\n        \"samples\": [\n          \"459.55\"\n        ],\n        \"semantic_type\": \"\",\n        \"description\": \"\"\n      }\n    },\n    {\n      \"column\": \"VARIACION\",\n      \"properties\": {\n        \"dtype\": \"category\",\n        \"num_unique_values\": 86,\n        \"samples\": [\n          \"-3.4\"\n        ],\n        \"semantic_type\": \"\",\n        \"description\": \"\"\n      }\n    },\n    {\n      \"column\": \"ANTERIOR\",\n      \"properties\": {\n        \"dtype\": \"string\",\n        \"num_unique_values\": 327,\n        \"samples\": [\n          \"1016.09\"\n        ],\n        \"semantic_type\": \"\",\n        \"description\": \"\"\n      }\n    },\n    {\n      \"column\": \"APERTURA\",\n      \"properties\": {\n        \"dtype\": \"number\",\n        \"std\": 306.6439212164916,\n        \"min\": 395.45,\n        \"max\": 1428.46,\n        \"num_unique_values\": 330,\n        \"samples\": [\n          436.05\n        ],\n        \"semantic_type\": \"\",\n        \"description\": \"\"\n      }\n    },\n    {\n      \"column\": \"MINIMO\",\n      \"properties\": {\n        \"dtype\": \"number\",\n        \"std\": 302.3104217131764,\n        \"min\": 395.06,\n        \"max\": 1413.01,\n        \"num_unique_values\": 312,\n        \"samples\": [\n          1033.58\n        ],\n        \"semantic_type\": \"\",\n        \"description\": \"\"\n      }\n    },\n    {\n      \"column\": \"MAXIMO\",\n      \"properties\": {\n        \"dtype\": \"number\",\n        \"std\": 307.7802373278789,\n        \"min\": 412.69,\n        \"max\": 1456.21,\n        \"num_unique_values\": 325,\n        \"samples\": [\n          1032.61\n        ],\n        \"semantic_type\": \"\",\n        \"description\": \"\"\n      }\n    },\n    {\n      \"column\": \"VARMTD\",\n      \"properties\": {\n        \"dtype\": \"object\",\n        \"num_unique_values\": 1,\n        \"samples\": [\n          \"\"\n        ],\n        \"semantic_type\": \"\",\n        \"description\": \"\"\n      }\n    },\n    {\n      \"column\": \"VARYTD\",\n      \"properties\": {\n        \"dtype\": \"object\",\n        \"num_unique_values\": 1,\n        \"samples\": [\n          \"\"\n        ],\n        \"semantic_type\": \"\",\n        \"description\": \"\"\n      }\n    },\n    {\n      \"column\": \"VAR6M\",\n      \"properties\": {\n        \"dtype\": \"object\",\n        \"num_unique_values\": 1,\n        \"samples\": [\n          \"\"\n        ],\n        \"semantic_type\": \"\",\n        \"description\": \"\"\n      }\n    },\n    {\n      \"column\": \"VAR12M\",\n      \"properties\": {\n        \"dtype\": \"object\",\n        \"num_unique_values\": 1,\n        \"samples\": [\n          \"\"\n        ],\n        \"semantic_type\": \"\",\n        \"description\": \"\"\n      }\n    },\n    {\n      \"column\": \"FECHA\",\n      \"properties\": {\n        \"dtype\": \"date\",\n        \"min\": \"2023-04-18 00:00:00\",\n        \"max\": \"2024-08-29 00:00:00\",\n        \"num_unique_values\": 334,\n        \"samples\": [\n          \"2023-05-24 00:00:00\"\n        ],\n        \"semantic_type\": \"\",\n        \"description\": \"\"\n      }\n    },\n    {\n      \"column\": \"HORA\",\n      \"properties\": {\n        \"dtype\": \"object\",\n        \"num_unique_values\": 4,\n        \"samples\": [\n          \"19:00\"\n        ],\n        \"semantic_type\": \"\",\n        \"description\": \"\"\n      }\n    },\n    {\n      \"column\": \"CIERRE\",\n      \"properties\": {\n        \"dtype\": \"number\",\n        \"std\": 305.8731194526548,\n        \"min\": 408.86,\n        \"max\": 1428.46,\n        \"num_unique_values\": 332,\n        \"samples\": [\n          459.55\n        ],\n        \"semantic_type\": \"\",\n        \"description\": \"\"\n      }\n    },\n    {\n      \"column\": \"TIMESTAMP\",\n      \"properties\": {\n        \"dtype\": \"number\",\n        \"std\": 12574780,\n        \"min\": 1681786800,\n        \"max\": 1724900400,\n        \"num_unique_values\": 334,\n        \"samples\": [\n          1684897200\n        ],\n        \"semantic_type\": \"\",\n        \"description\": \"\"\n      }\n    },\n    {\n      \"column\": \"VOLUMEN\",\n      \"properties\": {\n        \"dtype\": \"number\",\n        \"std\": 0,\n        \"min\": 0,\n        \"max\": 0,\n        \"num_unique_values\": 1,\n        \"samples\": [\n          0\n        ],\n        \"semantic_type\": \"\",\n        \"description\": \"\"\n      }\n    },\n    {\n      \"column\": \"RESULTADO\",\n      \"properties\": {\n        \"dtype\": \"number\",\n        \"std\": 20.464230548396532,\n        \"min\": -108.68000000000006,\n        \"max\": 81.25,\n        \"num_unique_values\": 322,\n        \"samples\": [\n          18.76000000000022\n        ],\n        \"semantic_type\": \"\",\n        \"description\": \"\"\n      }\n    },\n    {\n      \"column\": \"PORCENTAJE\",\n      \"properties\": {\n        \"dtype\": \"number\",\n        \"std\": 0.02139603197023218,\n        \"min\": -0.08594191724492421,\n        \"max\": 0.15049361907055142,\n        \"num_unique_values\": 329,\n        \"samples\": [\n          -0.016534801054924976\n        ],\n        \"semantic_type\": \"\",\n        \"description\": \"\"\n      }\n    },\n    {\n      \"column\": \"CIERRE_N\",\n      \"properties\": {\n        \"dtype\": \"number\",\n        \"std\": 1.000265130018202,\n        \"min\": -1.63,\n        \"max\": 1.71,\n        \"num_unique_values\": 172,\n        \"samples\": [\n          0.09\n        ],\n        \"semantic_type\": \"\",\n        \"description\": \"\"\n      }\n    },\n    {\n      \"column\": \"RESULTADO_N\",\n      \"properties\": {\n        \"dtype\": \"number\",\n        \"std\": 0.9997822513822304,\n        \"min\": -5.42,\n        \"max\": 3.86,\n        \"num_unique_values\": 193,\n        \"samples\": [\n          -0.05\n        ],\n        \"semantic_type\": \"\",\n        \"description\": \"\"\n      }\n    }\n  ]\n}"
            }
          },
          "metadata": {},
          "execution_count": 17
        }
      ]
    },
    {
      "cell_type": "markdown",
      "source": [
        "Ploteamos algunos valores generales"
      ],
      "metadata": {
        "id": "d81tf-ROh5PX"
      }
    },
    {
      "cell_type": "code",
      "source": [
        "plt.figure(figsize=(14, 8))\n",
        "plt.plot(df_dmep['FECHA'], df_dmep['CIERRE_N'], color='blue')\n",
        "plt.plot(df_merval['FECHA'], df_merval['CIERRE_N'], color='red')\n",
        "plt.plot(df_doficial['FECHA'], df_doficial['CIERRE_N'], color='yellow')\n",
        "plt.plot(df_edn['FECHA'], df_edn['CIERRE_N'], color='green')\n",
        "plt.plot(df_ypfd['FECHA'], df_ypfd['CIERRE_N'], color='black')\n",
        "plt.plot(df_bbar['FECHA'], df_bbar['CIERRE_N'], color='purple')\n",
        "\n",
        "\n",
        "print('Dolar Oficial: Amarillo')\n",
        "print('Dolar MEP: Azul')\n",
        "print('Merval: Rojo')\n",
        "print('EDN: Verde')\n",
        "print('YPFD: Negro')\n",
        "print('BBAR: Morado')"
      ],
      "metadata": {
        "colab": {
          "base_uri": "https://localhost:8080/",
          "height": 704
        },
        "id": "qLjO2tBciIWI",
        "outputId": "353074d6-372c-44ef-be2e-ec913abc80eb"
      },
      "execution_count": null,
      "outputs": [
        {
          "output_type": "stream",
          "name": "stdout",
          "text": [
            "Dolar Oficial: Amarillo\n",
            "Dolar MEP: Azul\n",
            "Merval: Rojo\n",
            "EDN: Verde\n",
            "YPFD: Negro\n",
            "BBAR: Morado\n"
          ]
        },
        {
          "output_type": "display_data",
          "data": {
            "text/plain": [
              "<Figure size 1400x800 with 1 Axes>"
            ],
            "image/png": "[encoded data removed]"
          },
          "metadata": {}
        }
      ]
    },
    {
      "cell_type": "code",
      "source": [
        "labels = ['P','O','N','M','L','K', 'J', 'I', 'H', 'G', 'F', 'E', 'D', 'C', 'B', 'A']\n",
        "# labels = ['G', 'F', 'E', 'D', 'C', 'B', 'A']\n",
        "stoi = {ch: i for i, ch in enumerate(labels)}\n",
        "itos = {i: ch for i, ch in enumerate(labels)}\n",
        "# Supongamos que tienes varios DataFrames en una lista\n",
        "dataframes = [df_edn[['FECHA','RESULTADO_N']], df_merval[['FECHA','RESULTADO_N']], df_dmep[['FECHA','RESULTADO_N']]]  # Lista de tus DataFrames\n",
        "\n",
        "# Realizar el merge utilizando la columna 'FECHA' como clave, manteniendo solo la intersección\n",
        "merged_df = dataframes[0]  # Iniciamos con el primer DataFrame\n",
        "\n",
        "for i, df in enumerate(dataframes[1:], 1):\n",
        "    if i == 1:\n",
        "        suffix = ('', '_MERV')\n",
        "    elif i == 2:\n",
        "        suffix = ('', '_DMEP')\n",
        "    merged_df = pd.merge(merged_df, df, on='FECHA', how='inner', suffixes=suffix)\n",
        "\n",
        "# merged_df es el DataFrame resultante de la intersección de todos los DataFrames por 'FECHA'\n"
      ],
      "metadata": {
        "id": "5zPYJOglsORV"
      },
      "execution_count": null,
      "outputs": []
    },
    {
      "cell_type": "code",
      "source": [
        "merged_df"
      ],
      "metadata": {
        "colab": {
          "base_uri": "https://localhost:8080/",
          "height": 424
        },
        "id": "o2kev6cAsgXK",
        "outputId": "bab03ad2-1fca-43ae-f20c-d0af355bf2d4"
      },
      "execution_count": null,
      "outputs": [
        {
          "output_type": "execute_result",
          "data": {
            "text/plain": [
              "         FECHA  RESULTADO_N  RESULTADO_N_MERV  RESULTADO_N_DMEP\n",
              "0   2023-04-18        -0.02             -0.05              0.54\n",
              "1   2023-04-19        -0.20             -0.41             -0.07\n",
              "2   2023-04-20         0.05              0.06              0.48\n",
              "3   2023-04-21         0.11              0.14              0.66\n",
              "4   2023-04-24         0.37              0.12              0.44\n",
              "..         ...          ...               ...               ...\n",
              "327 2024-08-23         0.60              0.75             -0.14\n",
              "328 2024-08-26        -0.41             -0.56              0.16\n",
              "329 2024-08-27         0.02              0.56             -0.21\n",
              "330 2024-08-28         0.75             -0.10             -0.31\n",
              "331 2024-08-29         0.89              1.15             -0.64\n",
              "\n",
              "[332 rows x 4 columns]"
            ],
            "text/html": [
              "\n",
              "  <div id=\"df-0dc154eb-978f-4011-b63d-40e7261c534a\" class=\"colab-df-container\">\n",
              "    <div>\n",
              "<style scoped>\n",
              "    .dataframe tbody tr th:only-of-type {\n",
              "        vertical-align: middle;\n",
              "    }\n",
              "\n",
              "    .dataframe tbody tr th {\n",
              "        vertical-align: top;\n",
              "    }\n",
              "\n",
              "    .dataframe thead th {\n",
              "        text-align: right;\n",
              "    }\n",
              "</style>\n",
              "<table border=\"1\" class=\"dataframe\">\n",
              "  <thead>\n",
              "    <tr style=\"text-align: right;\">\n",
              "      <th></th>\n",
              "      <th>FECHA</th>\n",
              "      <th>RESULTADO_N</th>\n",
              "      <th>RESULTADO_N_MERV</th>\n",
              "      <th>RESULTADO_N_DMEP</th>\n",
              "    </tr>\n",
              "  </thead>\n",
              "  <tbody>\n",
              "    <tr>\n",
              "      <th>0</th>\n",
              "      <td>2023-04-18</td>\n",
              "      <td>-0.02</td>\n",
              "      <td>-0.05</td>\n",
              "      <td>0.54</td>\n",
              "    </tr>\n",
              "    <tr>\n",
              "      <th>1</th>\n",
              "      <td>2023-04-19</td>\n",
              "      <td>-0.20</td>\n",
              "      <td>-0.41</td>\n",
              "      <td>-0.07</td>\n",
              "    </tr>\n",
              "    <tr>\n",
              "      <th>2</th>\n",
              "      <td>2023-04-20</td>\n",
              "      <td>0.05</td>\n",
              "      <td>0.06</td>\n",
              "      <td>0.48</td>\n",
              "    </tr>\n",
              "    <tr>\n",
              "      <th>3</th>\n",
              "      <td>2023-04-21</td>\n",
              "      <td>0.11</td>\n",
              "      <td>0.14</td>\n",
              "      <td>0.66</td>\n",
              "    </tr>\n",
              "    <tr>\n",
              "      <th>4</th>\n",
              "      <td>2023-04-24</td>\n",
              "      <td>0.37</td>\n",
              "      <td>0.12</td>\n",
              "      <td>0.44</td>\n",
              "    </tr>\n",
              "    <tr>\n",
              "      <th>...</th>\n",
              "      <td>...</td>\n",
              "      <td>...</td>\n",
              "      <td>...</td>\n",
              "      <td>...</td>\n",
              "    </tr>\n",
              "    <tr>\n",
              "      <th>327</th>\n",
              "      <td>2024-08-23</td>\n",
              "      <td>0.60</td>\n",
              "      <td>0.75</td>\n",
              "      <td>-0.14</td>\n",
              "    </tr>\n",
              "    <tr>\n",
              "      <th>328</th>\n",
              "      <td>2024-08-26</td>\n",
              "      <td>-0.41</td>\n",
              "      <td>-0.56</td>\n",
              "      <td>0.16</td>\n",
              "    </tr>\n",
              "    <tr>\n",
              "      <th>329</th>\n",
              "      <td>2024-08-27</td>\n",
              "      <td>0.02</td>\n",
              "      <td>0.56</td>\n",
              "      <td>-0.21</td>\n",
              "    </tr>\n",
              "    <tr>\n",
              "      <th>330</th>\n",
              "      <td>2024-08-28</td>\n",
              "      <td>0.75</td>\n",
              "      <td>-0.10</td>\n",
              "      <td>-0.31</td>\n",
              "    </tr>\n",
              "    <tr>\n",
              "      <th>331</th>\n",
              "      <td>2024-08-29</td>\n",
              "      <td>0.89</td>\n",
              "      <td>1.15</td>\n",
              "      <td>-0.64</td>\n",
              "    </tr>\n",
              "  </tbody>\n",
              "</table>\n",
              "<p>332 rows × 4 columns</p>\n",
              "</div>\n",
              "    <div class=\"colab-df-buttons\">\n",
              "\n",
              "  <div class=\"colab-df-container\">\n",
              "    <button class=\"colab-df-convert\" onclick=\"convertToInteractive('df-0dc154eb-978f-4011-b63d-40e7261c534a')\"\n",
              "            title=\"Convert this dataframe to an interactive table.\"\n",
              "            style=\"display:none;\">\n",
              "\n",
              "  <svg xmlns=\"http://www.w3.org/2000/svg\" height=\"24px\" viewBox=\"0 -960 960 960\">\n",
              "    <path d=\"M120-120v-720h720v720H120Zm60-500h600v-160H180v160Zm220 220h160v-160H400v160Zm0 220h160v-160H400v160ZM180-400h160v-160H180v160Zm440 0h160v-160H620v160ZM180-180h160v-160H180v160Zm440 0h160v-160H620v160Z\"/>\n",
              "  </svg>\n",
              "    </button>\n",
              "\n",
              "  <style>\n",
              "    .colab-df-container {\n",
              "      display:flex;\n",
              "      gap: 12px;\n",
              "    }\n",
              "\n",
              "    .colab-df-convert {\n",
              "      background-color: #E8F0FE;\n",
              "      border: none;\n",
              "      border-radius: 50%;\n",
              "      cursor: pointer;\n",
              "      display: none;\n",
              "      fill: #1967D2;\n",
              "      height: 32px;\n",
              "      padding: 0 0 0 0;\n",
              "      width: 32px;\n",
              "    }\n",
              "\n",
              "    .colab-df-convert:hover {\n",
              "      background-color: #E2EBFA;\n",
              "      box-shadow: 0px 1px 2px rgba(60, 64, 67, 0.3), 0px 1px 3px 1px rgba(60, 64, 67, 0.15);\n",
              "      fill: #174EA6;\n",
              "    }\n",
              "\n",
              "    .colab-df-buttons div {\n",
              "      margin-bottom: 4px;\n",
              "    }\n",
              "\n",
              "    [theme=dark] .colab-df-convert {\n",
              "      background-color: #3B4455;\n",
              "      fill: #D2E3FC;\n",
              "    }\n",
              "\n",
              "    [theme=dark] .colab-df-convert:hover {\n",
              "      background-color: #434B5C;\n",
              "      box-shadow: 0px 1px 3px 1px rgba(0, 0, 0, 0.15);\n",
              "      filter: drop-shadow(0px 1px 2px rgba(0, 0, 0, 0.3));\n",
              "      fill: #FFFFFF;\n",
              "    }\n",
              "  </style>\n",
              "\n",
              "    <script>\n",
              "      const buttonEl =\n",
              "        document.querySelector('#df-0dc154eb-978f-4011-b63d-40e7261c534a button.colab-df-convert');\n",
              "      buttonEl.style.display =\n",
              "        google.colab.kernel.accessAllowed ? 'block' : 'none';\n",
              "\n",
              "      async function convertToInteractive(key) {\n",
              "        const element = document.querySelector('#df-0dc154eb-978f-4011-b63d-40e7261c534a');\n",
              "        const dataTable =\n",
              "          await google.colab.kernel.invokeFunction('convertToInteractive',\n",
              "                                                    [key], {});\n",
              "        if (!dataTable) return;\n",
              "\n",
              "        const docLinkHtml = 'Like what you see? Visit the ' +\n",
              "          '<a target=\"_blank\" href=https://colab.research.google.com/notebooks/data_table.ipynb>data table notebook</a>'\n",
              "          + ' to learn more about interactive tables.';\n",
              "        element.innerHTML = '';\n",
              "        dataTable['output_type'] = 'display_data';\n",
              "        await google.colab.output.renderOutput(dataTable, element);\n",
              "        const docLink = document.createElement('div');\n",
              "        docLink.innerHTML = docLinkHtml;\n",
              "        element.appendChild(docLink);\n",
              "      }\n",
              "    </script>\n",
              "  </div>\n",
              "\n",
              "\n",
              "<div id=\"df-ccba8a4e-ca02-4ad9-b348-aa106afe8ff1\">\n",
              "  <button class=\"colab-df-quickchart\" onclick=\"quickchart('df-ccba8a4e-ca02-4ad9-b348-aa106afe8ff1')\"\n",
              "            title=\"Suggest charts\"\n",
              "            style=\"display:none;\">\n",
              "\n",
              "<svg xmlns=\"http://www.w3.org/2000/svg\" height=\"24px\"viewBox=\"0 0 24 24\"\n",
              "     width=\"24px\">\n",
              "    <g>\n",
              "        <path d=\"M19 3H5c-1.1 0-2 .9-2 2v14c0 1.1.9 2 2 2h14c1.1 0 2-.9 2-2V5c0-1.1-.9-2-2-2zM9 17H7v-7h2v7zm4 0h-2V7h2v10zm4 0h-2v-4h2v4z\"/>\n",
              "    </g>\n",
              "</svg>\n",
              "  </button>\n",
              "\n",
              "<style>\n",
              "  .colab-df-quickchart {\n",
              "      --bg-color: #E8F0FE;\n",
              "      --fill-color: #1967D2;\n",
              "      --hover-bg-color: #E2EBFA;\n",
              "      --hover-fill-color: #174EA6;\n",
              "      --disabled-fill-color: #AAA;\n",
              "      --disabled-bg-color: #DDD;\n",
              "  }\n",
              "\n",
              "  [theme=dark] .colab-df-quickchart {\n",
              "      --bg-color: #3B4455;\n",
              "      --fill-color: #D2E3FC;\n",
              "      --hover-bg-color: #434B5C;\n",
              "      --hover-fill-color: #FFFFFF;\n",
              "      --disabled-bg-color: #3B4455;\n",
              "      --disabled-fill-color: #666;\n",
              "  }\n",
              "\n",
              "  .colab-df-quickchart {\n",
              "    background-color: var(--bg-color);\n",
              "    border: none;\n",
              "    border-radius: 50%;\n",
              "    cursor: pointer;\n",
              "    display: none;\n",
              "    fill: var(--fill-color);\n",
              "    height: 32px;\n",
              "    padding: 0;\n",
              "    width: 32px;\n",
              "  }\n",
              "\n",
              "  .colab-df-quickchart:hover {\n",
              "    background-color: var(--hover-bg-color);\n",
              "    box-shadow: 0 1px 2px rgba(60, 64, 67, 0.3), 0 1px 3px 1px rgba(60, 64, 67, 0.15);\n",
              "    fill: var(--button-hover-fill-color);\n",
              "  }\n",
              "\n",
              "  .colab-df-quickchart-complete:disabled,\n",
              "  .colab-df-quickchart-complete:disabled:hover {\n",
              "    background-color: var(--disabled-bg-color);\n",
              "    fill: var(--disabled-fill-color);\n",
              "    box-shadow: none;\n",
              "  }\n",
              "\n",
              "  .colab-df-spinner {\n",
              "    border: 2px solid var(--fill-color);\n",
              "    border-color: transparent;\n",
              "    border-bottom-color: var(--fill-color);\n",
              "    animation:\n",
              "      spin 1s steps(1) infinite;\n",
              "  }\n",
              "\n",
              "  @keyframes spin {\n",
              "    0% {\n",
              "      border-color: transparent;\n",
              "      border-bottom-color: var(--fill-color);\n",
              "      border-left-color: var(--fill-color);\n",
              "    }\n",
              "    20% {\n",
              "      border-color: transparent;\n",
              "      border-left-color: var(--fill-color);\n",
              "      border-top-color: var(--fill-color);\n",
              "    }\n",
              "    30% {\n",
              "      border-color: transparent;\n",
              "      border-left-color: var(--fill-color);\n",
              "      border-top-color: var(--fill-color);\n",
              "      border-right-color: var(--fill-color);\n",
              "    }\n",
              "    40% {\n",
              "      border-color: transparent;\n",
              "      border-right-color: var(--fill-color);\n",
              "      border-top-color: var(--fill-color);\n",
              "    }\n",
              "    60% {\n",
              "      border-color: transparent;\n",
              "      border-right-color: var(--fill-color);\n",
              "    }\n",
              "    80% {\n",
              "      border-color: transparent;\n",
              "      border-right-color: var(--fill-color);\n",
              "      border-bottom-color: var(--fill-color);\n",
              "    }\n",
              "    90% {\n",
              "      border-color: transparent;\n",
              "      border-bottom-color: var(--fill-color);\n",
              "    }\n",
              "  }\n",
              "</style>\n",
              "\n",
              "  <script>\n",
              "    async function quickchart(key) {\n",
              "      const quickchartButtonEl =\n",
              "        document.querySelector('#' + key + ' button');\n",
              "      quickchartButtonEl.disabled = true;  // To prevent multiple clicks.\n",
              "      quickchartButtonEl.classList.add('colab-df-spinner');\n",
              "      try {\n",
              "        const charts = await google.colab.kernel.invokeFunction(\n",
              "            'suggestCharts', [key], {});\n",
              "      } catch (error) {\n",
              "        console.error('Error during call to suggestCharts:', error);\n",
              "      }\n",
              "      quickchartButtonEl.classList.remove('colab-df-spinner');\n",
              "      quickchartButtonEl.classList.add('colab-df-quickchart-complete');\n",
              "    }\n",
              "    (() => {\n",
              "      let quickchartButtonEl =\n",
              "        document.querySelector('#df-ccba8a4e-ca02-4ad9-b348-aa106afe8ff1 button');\n",
              "      quickchartButtonEl.style.display =\n",
              "        google.colab.kernel.accessAllowed ? 'block' : 'none';\n",
              "    })();\n",
              "  </script>\n",
              "</div>\n",
              "\n",
              "  <div id=\"id_78ddae0b-2700-4214-8361-543f31c1854e\">\n",
              "    <style>\n",
              "      .colab-df-generate {\n",
              "        background-color: #E8F0FE;\n",
              "        border: none;\n",
              "        border-radius: 50%;\n",
              "        cursor: pointer;\n",
              "        display: none;\n",
              "        fill: #1967D2;\n",
              "        height: 32px;\n",
              "        padding: 0 0 0 0;\n",
              "        width: 32px;\n",
              "      }\n",
              "\n",
              "      .colab-df-generate:hover {\n",
              "        background-color: #E2EBFA;\n",
              "        box-shadow: 0px 1px 2px rgba(60, 64, 67, 0.3), 0px 1px 3px 1px rgba(60, 64, 67, 0.15);\n",
              "        fill: #174EA6;\n",
              "      }\n",
              "\n",
              "      [theme=dark] .colab-df-generate {\n",
              "        background-color: #3B4455;\n",
              "        fill: #D2E3FC;\n",
              "      }\n",
              "\n",
              "      [theme=dark] .colab-df-generate:hover {\n",
              "        background-color: #434B5C;\n",
              "        box-shadow: 0px 1px 3px 1px rgba(0, 0, 0, 0.15);\n",
              "        filter: drop-shadow(0px 1px 2px rgba(0, 0, 0, 0.3));\n",
              "        fill: #FFFFFF;\n",
              "      }\n",
              "    </style>\n",
              "    <button class=\"colab-df-generate\" onclick=\"generateWithVariable('merged_df')\"\n",
              "            title=\"Generate code using this dataframe.\"\n",
              "            style=\"display:none;\">\n",
              "\n",
              "  <svg xmlns=\"http://www.w3.org/2000/svg\" height=\"24px\"viewBox=\"0 0 24 24\"\n",
              "       width=\"24px\">\n",
              "    <path d=\"M7,19H8.4L18.45,9,17,7.55,7,17.6ZM5,21V16.75L18.45,3.32a2,2,0,0,1,2.83,0l1.4,1.43a1.91,1.91,0,0,1,.58,1.4,1.91,1.91,0,0,1-.58,1.4L9.25,21ZM18.45,9,17,7.55Zm-12,3A5.31,5.31,0,0,0,4.9,8.1,5.31,5.31,0,0,0,1,6.5,5.31,5.31,0,0,0,4.9,4.9,5.31,5.31,0,0,0,6.5,1,5.31,5.31,0,0,0,8.1,4.9,5.31,5.31,0,0,0,12,6.5,5.46,5.46,0,0,0,6.5,12Z\"/>\n",
              "  </svg>\n",
              "    </button>\n",
              "    <script>\n",
              "      (() => {\n",
              "      const buttonEl =\n",
              "        document.querySelector('#id_78ddae0b-2700-4214-8361-543f31c1854e button.colab-df-generate');\n",
              "      buttonEl.style.display =\n",
              "        google.colab.kernel.accessAllowed ? 'block' : 'none';\n",
              "\n",
              "      buttonEl.onclick = () => {\n",
              "        google.colab.notebook.generateWithVariable('merged_df');\n",
              "      }\n",
              "      })();\n",
              "    </script>\n",
              "  </div>\n",
              "\n",
              "    </div>\n",
              "  </div>\n"
            ],
            "application/vnd.google.colaboratory.intrinsic+json": {
              "type": "dataframe",
              "variable_name": "merged_df",
              "summary": "{\n  \"name\": \"merged_df\",\n  \"rows\": 332,\n  \"fields\": [\n    {\n      \"column\": \"FECHA\",\n      \"properties\": {\n        \"dtype\": \"date\",\n        \"min\": \"2023-04-18 00:00:00\",\n        \"max\": \"2024-08-29 00:00:00\",\n        \"num_unique_values\": 332,\n        \"samples\": [\n          \"2023-05-24 00:00:00\",\n          \"2024-08-09 00:00:00\",\n          \"2023-08-04 00:00:00\"\n        ],\n        \"semantic_type\": \"\",\n        \"description\": \"\"\n      }\n    },\n    {\n      \"column\": \"RESULTADO_N\",\n      \"properties\": {\n        \"dtype\": \"number\",\n        \"std\": 1.002462364859829,\n        \"min\": -4.36,\n        \"max\": 3.57,\n        \"num_unique_values\": 205,\n        \"samples\": [\n          -0.13,\n          0.01,\n          3.51\n        ],\n        \"semantic_type\": \"\",\n        \"description\": \"\"\n      }\n    },\n    {\n      \"column\": \"RESULTADO_N_MERV\",\n      \"properties\": {\n        \"dtype\": \"number\",\n        \"std\": 1.0000690485934691,\n        \"min\": -6.49,\n        \"max\": 4.31,\n        \"num_unique_values\": 202,\n        \"samples\": [\n          1.07,\n          -0.06,\n          0.26\n        ],\n        \"semantic_type\": \"\",\n        \"description\": \"\"\n      }\n    },\n    {\n      \"column\": \"RESULTADO_N_DMEP\",\n      \"properties\": {\n        \"dtype\": \"number\",\n        \"std\": 0.9979617650260091,\n        \"min\": -5.42,\n        \"max\": 3.86,\n        \"num_unique_values\": 191,\n        \"samples\": [\n          0.31,\n          2.71,\n          -1.45\n        ],\n        \"semantic_type\": \"\",\n        \"description\": \"\"\n      }\n    }\n  ]\n}"
            }
          },
          "metadata": {},
          "execution_count": 20
        }
      ]
    },
    {
      "cell_type": "markdown",
      "source": [
        "# seteo de los datos\n"
      ],
      "metadata": {
        "id": "8r6sxxCNcGcy"
      }
    },
    {
      "cell_type": "code",
      "source": [
        "# Función para aplicar desplazamientos\n",
        "def apply_shifts(df, name, n_shifts):\n",
        "    for i in range(1, n_shifts + 1):\n",
        "        df[name+f'_{i}'] = df[name].shift(i)\n",
        "    return df\n"
      ],
      "metadata": {
        "id": "tgrBBFsVRbf8"
      },
      "execution_count": null,
      "outputs": []
    },
    {
      "cell_type": "code",
      "source": [
        "len(labels)"
      ],
      "metadata": {
        "colab": {
          "base_uri": "https://localhost:8080/"
        },
        "id": "AVSbCNyy4PUd",
        "outputId": "4321feb2-466e-4954-f9fe-f8dc3d556ca4"
      },
      "execution_count": null,
      "outputs": [
        {
          "output_type": "execute_result",
          "data": {
            "text/plain": [
              "16"
            ]
          },
          "metadata": {},
          "execution_count": 22
        }
      ]
    },
    {
      "cell_type": "code",
      "source": [
        "columns_to_cut = ['RESULTADO_N', 'RESULTADO_N_MERV', 'RESULTADO_N_DMEP']\n",
        "for column in columns_to_cut:\n",
        "    merged_df[f'{column}_RES'] = pd.cut(merged_df[column], bins=len(labels), labels=labels)\n"
      ],
      "metadata": {
        "id": "nu7fDIGNO-BH"
      },
      "execution_count": null,
      "outputs": []
    },
    {
      "cell_type": "code",
      "source": [
        "context_len = 5\n",
        "ind=1\n",
        "for column in columns_to_cut:\n",
        "  aux = merged_df.copy()\n",
        "  merged_df = apply_shifts(aux, column+'_RES', context_len)\n",
        "\n",
        "merged_df = merged_df.dropna()\n",
        "merged_df.reset_index(inplace=True)\n",
        "# merged_df.drop(['index'], axis=1, inplace=True)\n",
        "# df.fillna('.', inplace=True)"
      ],
      "metadata": {
        "id": "xZ5-VRm6OeN8"
      },
      "execution_count": null,
      "outputs": []
    },
    {
      "cell_type": "code",
      "source": [
        "merged_df.shape"
      ],
      "metadata": {
        "colab": {
          "base_uri": "https://localhost:8080/"
        },
        "id": "vXmUmH0Zcpzi",
        "outputId": "a0fd579a-7ffc-4a98-8cde-b200dba9d1f1"
      },
      "execution_count": null,
      "outputs": [
        {
          "output_type": "execute_result",
          "data": {
            "text/plain": [
              "(327, 23)"
            ]
          },
          "metadata": {},
          "execution_count": 25
        }
      ]
    },
    {
      "cell_type": "code",
      "source": [
        "import torch\n",
        "\n",
        "xs, ys = [], []\n",
        "columns = ['RESULTADO_N_RES'+f'_{i}' for i in range(context_len, 0, -1)]\n",
        "comlums = columns.extend(['RESULTADO_N_MERV_RES'+f'_{i}' for i in range(context_len, 0, -1)])\n",
        "comlums = columns.extend(['RESULTADO_N_DMEP_RES'+f'_{i}' for i in range(context_len, 0, -1)])\n",
        "xs = merged_df[columns]\n",
        "ys = merged_df['RESULTADO_N_RES']\n"
      ],
      "metadata": {
        "id": "qRe_5WDcmfp0"
      },
      "execution_count": null,
      "outputs": []
    },
    {
      "cell_type": "code",
      "source": [
        "xs, ys"
      ],
      "metadata": {
        "id": "eYJflZOH5aWy",
        "colab": {
          "base_uri": "https://localhost:8080/"
        },
        "outputId": "3ae5ed9a-89b6-45a4-cbf9-a43e6643b70e"
      },
      "execution_count": null,
      "outputs": [
        {
          "output_type": "execute_result",
          "data": {
            "text/plain": [
              "(    RESULTADO_N_RES_5 RESULTADO_N_RES_4 RESULTADO_N_RES_3 RESULTADO_N_RES_2  \\\n",
              " 0                   H                 H                 H                 G   \n",
              " 1                   H                 H                 G                 G   \n",
              " 2                   H                 G                 G                 H   \n",
              " 3                   G                 G                 H                 H   \n",
              " 4                   G                 H                 H                 H   \n",
              " ..                ...               ...               ...               ...   \n",
              " 322                 G                 D                 E                 K   \n",
              " 323                 D                 E                 K                 I   \n",
              " 324                 E                 K                 I                 F   \n",
              " 325                 K                 I                 F                 I   \n",
              " 326                 I                 F                 I                 H   \n",
              " \n",
              "     RESULTADO_N_RES_1 RESULTADO_N_MERV_RES_5 RESULTADO_N_MERV_RES_4  \\\n",
              " 0                   G                      G                      G   \n",
              " 1                   H                      G                      G   \n",
              " 2                   H                      G                      G   \n",
              " 3                   H                      G                      G   \n",
              " 4                   H                      G                      G   \n",
              " ..                ...                    ...                    ...   \n",
              " 322                 I                      G                      G   \n",
              " 323                 F                      G                      G   \n",
              " 324                 I                      G                      I   \n",
              " 325                 H                      I                      I   \n",
              " 326                 F                      I                      F   \n",
              " \n",
              "     RESULTADO_N_MERV_RES_3 RESULTADO_N_MERV_RES_2 RESULTADO_N_MERV_RES_1  \\\n",
              " 0                        G                      G                      G   \n",
              " 1                        G                      G                      G   \n",
              " 2                        G                      G                      G   \n",
              " 3                        G                      G                      G   \n",
              " 4                        G                      G                      G   \n",
              " ..                     ...                    ...                    ...   \n",
              " 322                      G                      I                      I   \n",
              " 323                      I                      I                      F   \n",
              " 324                      I                      F                      H   \n",
              " 325                      F                      H                      F   \n",
              " 326                      H                      F                      G   \n",
              " \n",
              "     RESULTADO_N_DMEP_RES_5 RESULTADO_N_DMEP_RES_4 RESULTADO_N_DMEP_RES_3  \\\n",
              " 0                        F                      G                      F   \n",
              " 1                        G                      F                      F   \n",
              " 2                        F                      F                      F   \n",
              " 3                        F                      F                      G   \n",
              " 4                        F                      G                      G   \n",
              " ..                     ...                    ...                    ...   \n",
              " 322                      G                      H                      G   \n",
              " 323                      H                      G                      G   \n",
              " 324                      G                      G                      H   \n",
              " 325                      G                      H                      G   \n",
              " 326                      H                      G                      G   \n",
              " \n",
              "     RESULTADO_N_DMEP_RES_2 RESULTADO_N_DMEP_RES_1  \n",
              " 0                        F                      F  \n",
              " 1                        F                      G  \n",
              " 2                        G                      G  \n",
              " 3                        G                      H  \n",
              " 4                        H                      H  \n",
              " ..                     ...                    ...  \n",
              " 322                      G                      H  \n",
              " 323                      H                      G  \n",
              " 324                      G                      G  \n",
              " 325                      G                      H  \n",
              " 326                      H                      H  \n",
              " \n",
              " [327 rows x 15 columns],\n",
              " 0      H\n",
              " 1      H\n",
              " 2      H\n",
              " 3      H\n",
              " 4      H\n",
              "       ..\n",
              " 322    F\n",
              " 323    I\n",
              " 324    H\n",
              " 325    F\n",
              " 326    F\n",
              " Name: RESULTADO_N_RES, Length: 327, dtype: category\n",
              " Categories (16, object): ['P' < 'O' < 'N' < 'M' ... 'D' < 'C' < 'B' < 'A'])"
            ]
          },
          "metadata": {},
          "execution_count": 27
        }
      ]
    },
    {
      "cell_type": "code",
      "source": [
        "for column in xs.columns:\n",
        "    xs.loc[:, column] = xs[column].apply(lambda x: stoi.get(x, x))  # Usar .get() para evitar errores si no se encuentra el valor\n",
        "ys = ys.apply(lambda x: stoi[x])"
      ],
      "metadata": {
        "id": "4ObcRbWNjBCf"
      },
      "execution_count": null,
      "outputs": []
    },
    {
      "cell_type": "code",
      "source": [
        "xs = xs.astype(int)\n",
        "ys = ys.astype(int)"
      ],
      "metadata": {
        "id": "fpi9jyQJj2LB"
      },
      "execution_count": null,
      "outputs": []
    },
    {
      "cell_type": "code",
      "source": [
        "xs, ys"
      ],
      "metadata": {
        "colab": {
          "base_uri": "https://localhost:8080/"
        },
        "id": "H4xLiVPdfGZD",
        "outputId": "5b257556-ee8b-4684-d892-bcaaa8b16acf"
      },
      "execution_count": null,
      "outputs": [
        {
          "output_type": "execute_result",
          "data": {
            "text/plain": [
              "(     RESULTADO_N_RES_5  RESULTADO_N_RES_4  RESULTADO_N_RES_3  \\\n",
              " 0                    8                  8                  8   \n",
              " 1                    8                  8                  9   \n",
              " 2                    8                  9                  9   \n",
              " 3                    9                  9                  8   \n",
              " 4                    9                  8                  8   \n",
              " ..                 ...                ...                ...   \n",
              " 322                  9                 12                 11   \n",
              " 323                 12                 11                  5   \n",
              " 324                 11                  5                  7   \n",
              " 325                  5                  7                 10   \n",
              " 326                  7                 10                  7   \n",
              " \n",
              "      RESULTADO_N_RES_2  RESULTADO_N_RES_1  RESULTADO_N_MERV_RES_5  \\\n",
              " 0                    9                  9                       9   \n",
              " 1                    9                  8                       9   \n",
              " 2                    8                  8                       9   \n",
              " 3                    8                  8                       9   \n",
              " 4                    8                  8                       9   \n",
              " ..                 ...                ...                     ...   \n",
              " 322                  5                  7                       9   \n",
              " 323                  7                 10                       9   \n",
              " 324                 10                  7                       9   \n",
              " 325                  7                  8                       7   \n",
              " 326                  8                 10                       7   \n",
              " \n",
              "      RESULTADO_N_MERV_RES_4  RESULTADO_N_MERV_RES_3  RESULTADO_N_MERV_RES_2  \\\n",
              " 0                         9                       9                       9   \n",
              " 1                         9                       9                       9   \n",
              " 2                         9                       9                       9   \n",
              " 3                         9                       9                       9   \n",
              " 4                         9                       9                       9   \n",
              " ..                      ...                     ...                     ...   \n",
              " 322                       9                       9                       7   \n",
              " 323                       9                       7                       7   \n",
              " 324                       7                       7                      10   \n",
              " 325                       7                      10                       8   \n",
              " 326                      10                       8                      10   \n",
              " \n",
              "      RESULTADO_N_MERV_RES_1  RESULTADO_N_DMEP_RES_5  RESULTADO_N_DMEP_RES_4  \\\n",
              " 0                         9                      10                       9   \n",
              " 1                         9                       9                      10   \n",
              " 2                         9                      10                      10   \n",
              " 3                         9                      10                      10   \n",
              " 4                         9                      10                       9   \n",
              " ..                      ...                     ...                     ...   \n",
              " 322                       7                       9                       8   \n",
              " 323                      10                       8                       9   \n",
              " 324                       8                       9                       9   \n",
              " 325                      10                       9                       8   \n",
              " 326                       9                       8                       9   \n",
              " \n",
              "      RESULTADO_N_DMEP_RES_3  RESULTADO_N_DMEP_RES_2  RESULTADO_N_DMEP_RES_1  \n",
              " 0                        10                      10                      10  \n",
              " 1                        10                      10                       9  \n",
              " 2                        10                       9                       9  \n",
              " 3                         9                       9                       8  \n",
              " 4                         9                       8                       8  \n",
              " ..                      ...                     ...                     ...  \n",
              " 322                       9                       9                       8  \n",
              " 323                       9                       8                       9  \n",
              " 324                       8                       9                       9  \n",
              " 325                       9                       9                       8  \n",
              " 326                       9                       8                       8  \n",
              " \n",
              " [327 rows x 15 columns],\n",
              " 0       8\n",
              " 1       8\n",
              " 2       8\n",
              " 3       8\n",
              " 4       8\n",
              "        ..\n",
              " 322    10\n",
              " 323     7\n",
              " 324     8\n",
              " 325    10\n",
              " 326    10\n",
              " Name: RESULTADO_N_RES, Length: 327, dtype: int64)"
            ]
          },
          "metadata": {},
          "execution_count": 30
        }
      ]
    },
    {
      "cell_type": "code",
      "source": [
        "n1 = int(.9 * len(xs))  # límite para el 90% del dataset\n",
        "d = 5\n",
        "xs = xs.to_numpy()\n",
        "ys = ys.to_numpy()\n",
        "Xtr = torch.tensor(xs[:-d])\n",
        "Ytr = torch.tensor(ys[:-d])\n",
        "Xdev = torch.tensor(xs[-d:])\n",
        "Ydev = torch.tensor(ys[-d:])"
      ],
      "metadata": {
        "id": "mqoUIZuGlUOA"
      },
      "execution_count": null,
      "outputs": []
    },
    {
      "cell_type": "code",
      "source": [
        "Xtr, Ytr"
      ],
      "metadata": {
        "id": "JiO6SvUWj7Cx",
        "colab": {
          "base_uri": "https://localhost:8080/"
        },
        "outputId": "56041d9e-50b2-4e44-d994-8a7492bb9f6f"
      },
      "execution_count": null,
      "outputs": [
        {
          "output_type": "execute_result",
          "data": {
            "text/plain": [
              "(tensor([[ 8,  8,  8,  ..., 10, 10, 10],\n",
              "         [ 8,  8,  9,  ..., 10, 10,  9],\n",
              "         [ 8,  9,  9,  ..., 10,  9,  9],\n",
              "         ...,\n",
              "         [ 8,  7, 10,  ...,  9,  9,  8],\n",
              "         [ 7, 10,  9,  ...,  9,  8,  9],\n",
              "         [10,  9, 12,  ...,  8,  9,  9]]),\n",
              " tensor([ 8,  8,  8,  8,  8,  8,  8,  8,  8,  8,  8,  8,  9,  8,  8,  9,  8,  8,\n",
              "          8,  9,  8,  8,  8,  9,  9,  9, 10,  8,  8,  9,  8,  8,  8,  8,  9,  9,\n",
              "         10,  8,  9, 10,  6,  7,  8,  9,  8,  9,  9,  8,  8,  8,  8,  8, 10,  8,\n",
              "         10,  8,  8,  9,  9,  8,  9,  8,  6,  9,  7,  8,  9,  8,  7,  8,  8,  8,\n",
              "          8,  8, 10, 10, 10,  9,  7,  7,  9,  9,  8,  9,  9,  7,  8,  8,  9,  7,\n",
              "          7,  7,  7,  7, 10,  9,  9,  9,  9,  8,  8,  9,  8,  8,  9, 10,  9,  7,\n",
              "          8,  8,  9, 10, 10,  8, 10,  9,  9,  9,  8,  6, 10,  7,  7,  9,  8,  7,\n",
              "          6,  7, 10,  9,  9,  7,  7,  9,  9,  8,  9,  9,  8, 10, 15, 10, 13, 15,\n",
              "          0,  4,  8,  9, 10,  7, 12,  8, 11, 12, 14,  5,  7,  5, 12,  6,  6,  7,\n",
              "          7,  7,  5, 10,  8, 11, 11,  8,  8, 12,  6,  9,  5,  7, 11, 13, 13,  9,\n",
              "          5,  9,  7,  7,  8,  7,  6, 10,  9,  3,  5, 11,  4, 10,  8, 11,  5, 10,\n",
              "          4,  8,  9, 11,  2,  4,  7,  8, 11,  4,  6,  5,  7, 10,  5, 13,  4,  6,\n",
              "         10, 14,  9, 13,  6, 10,  6,  8,  8,  9,  6, 11,  8,  7,  7,  8,  5,  5,\n",
              "         10,  5,  9,  9, 11,  6,  8,  9,  9,  9,  9, 10, 11, 13,  6,  6,  8,  9,\n",
              "          6,  9,  8,  8,  6, 11,  8,  7,  6,  7, 11, 11,  9, 10,  7,  6,  6, 10,\n",
              "          4, 10,  9,  6, 11,  6,  7,  7,  8,  9, 10,  8, 11,  6,  7,  9,  8,  8,\n",
              "          9,  9, 12, 10,  7,  2, 10,  6,  8, 10,  8, 10,  7,  8,  8,  5,  6, 12,\n",
              "          7,  9,  8,  8,  7, 11, 10,  8,  8,  7, 10,  9, 12, 11,  5,  7]))"
            ]
          },
          "metadata": {},
          "execution_count": 32
        }
      ]
    },
    {
      "cell_type": "code",
      "source": [
        "Xtr.shape, Ytr.shape, Xdev.shape, Ydev.shape"
      ],
      "metadata": {
        "colab": {
          "base_uri": "https://localhost:8080/"
        },
        "id": "uFUPgXiIhAID",
        "outputId": "57347a63-64a2-41ba-e290-6aed355c57a3"
      },
      "execution_count": null,
      "outputs": [
        {
          "output_type": "execute_result",
          "data": {
            "text/plain": [
              "(torch.Size([322, 15]),\n",
              " torch.Size([322]),\n",
              " torch.Size([5, 15]),\n",
              " torch.Size([5]))"
            ]
          },
          "metadata": {},
          "execution_count": 33
        }
      ]
    },
    {
      "cell_type": "code",
      "source": [
        "import torch.nn.functional as F\n",
        "# MLP de nuevo...\n",
        "g = torch.Generator(device='cpu').manual_seed(42)\n",
        "emb_d = 7  # El número de dimensiones del Enbedding\n",
        "context = context_len * len(columns_to_cut)  # el contexto se calcula por los días (context_len) para atras mas las variables involucradas (colums_to_cut).\n",
        "input_size = context * emb_d  # el tamaño del input, desapilado\n",
        "n_hidden = 128  # El número de neuronas en al capa hiddend que queremos\n",
        "\n",
        "# Definición del modelo\n",
        "C = torch.randn((len(labels), emb_d),         generator=g)\n",
        "W1 = torch.randn((emb_d * context, n_hidden), generator=g)\n",
        "b1 = torch.randn(n_hidden,                    generator=g)\n",
        "W2 = torch.randn((n_hidden, len(labels)),     generator=g)\n",
        "b2 = torch.randn(len(labels),                 generator=g)\n",
        "parameters = [C, W1, b1, W2, b2]\n",
        "for p in parameters:\n",
        "    p.requires_grad = True\n",
        "sum(p.nelement() for p in parameters)\n"
      ],
      "metadata": {
        "id": "UxBMKDoHmaKC",
        "colab": {
          "base_uri": "https://localhost:8080/"
        },
        "outputId": "e3da118e-3806-4106-d57e-73a88d922433"
      },
      "execution_count": null,
      "outputs": [
        {
          "output_type": "execute_result",
          "data": {
            "text/plain": [
              "15744"
            ]
          },
          "metadata": {},
          "execution_count": 34
        }
      ]
    },
    {
      "cell_type": "code",
      "source": [
        "train_iterations = 100000\n",
        "# minibatch_size = 64\n",
        "loss_log = []\n",
        "\n",
        "for i in range(train_iterations):\n",
        "    # training loop en mini batches\n",
        "    # ix = torch.randint(0, len(Xtr), (minibatch_size,), generator=g)\n",
        "    # Xb, Yb = Xtr[ix], Ytr[ix]\n",
        "    Xb, Yb = Xtr, Ytr\n",
        "    # forward pass usando F.cross_entropy\n",
        "    emb = C[Xb]  # embedding de los caracteres\n",
        "    embcat = emb.reshape(-1, input_size)  # embedding como una vector de input_size\n",
        "    hpreact = embcat @ W1 + b1  # pre activación de la capa oculta (h)\n",
        "    h = torch.tanh(hpreact)  # activación de la capa oculta (h)\n",
        "    logits = h @ W2 + b2  # output layer\n",
        "    loss = F.cross_entropy(logits, Yb)\n",
        "    # backward pass\n",
        "    for p in parameters:\n",
        "        p.grad = None\n",
        "    loss.backward()\n",
        "    # update\n",
        "    lr = .1 if i < 100000 else .01\n",
        "    for p in parameters:\n",
        "        p.data += -lr * p.grad\n",
        "    if i % 10000 == 0:\n",
        "        print(f'Step: {i:7d}/{train_iterations:7d} -- loss: {loss.item():.6f}')\n",
        "    loss_log.append(loss.log10().item())\n",
        "print(loss.item())"
      ],
      "metadata": {
        "id": "c_6VYcQJtzGY",
        "colab": {
          "base_uri": "https://localhost:8080/"
        },
        "outputId": "930ae491-db7b-46e9-af8c-c8551bb9d78e"
      },
      "execution_count": null,
      "outputs": [
        {
          "output_type": "stream",
          "name": "stdout",
          "text": [
            "Step:       0/ 100000 -- loss: 20.873980\n",
            "Step:   10000/ 100000 -- loss: 0.001532\n",
            "Step:   20000/ 100000 -- loss: 0.000800\n",
            "Step:   30000/ 100000 -- loss: 0.000546\n",
            "Step:   40000/ 100000 -- loss: 0.000415\n",
            "Step:   50000/ 100000 -- loss: 0.000335\n",
            "Step:   60000/ 100000 -- loss: 0.000281\n",
            "Step:   70000/ 100000 -- loss: 0.000242\n",
            "Step:   80000/ 100000 -- loss: 0.000212\n",
            "Step:   90000/ 100000 -- loss: 0.000189\n",
            "0.00017001619562506676\n"
          ]
        }
      ]
    },
    {
      "cell_type": "code",
      "source": [
        "plt.plot(loss_log)"
      ],
      "metadata": {
        "id": "7RtKF4mWAeSp",
        "colab": {
          "base_uri": "https://localhost:8080/",
          "height": 447
        },
        "outputId": "0b0150b6-762b-4b64-db58-db5fab456186"
      },
      "execution_count": null,
      "outputs": [
        {
          "output_type": "execute_result",
          "data": {
            "text/plain": [
              "[<matplotlib.lines.Line2D at 0x792dd0dc9420>]"
            ]
          },
          "metadata": {},
          "execution_count": 36
        },
        {
          "output_type": "display_data",
          "data": {
            "text/plain": [
              "<Figure size 640x480 with 1 Axes>"
            ],
            "image/png": "[encoded data removed]"
          },
          "metadata": {}
        }
      ]
    },
    {
      "cell_type": "code",
      "source": [
        "plt.hist(h.view(-1).tolist(),bins=50)"
      ],
      "metadata": {
        "colab": {
          "base_uri": "https://localhost:8080/",
          "height": 725
        },
        "id": "DwADuqIDJNkl",
        "outputId": "535473bc-7cb0-443e-d580-4df9f6dba521"
      },
      "execution_count": null,
      "outputs": [
        {
          "output_type": "execute_result",
          "data": {
            "text/plain": [
              "(array([1.6841e+04, 4.5400e+02, 2.5500e+02, 1.6100e+02, 1.1300e+02,\n",
              "        9.0000e+01, 7.0000e+01, 4.4000e+01, 6.3000e+01, 5.0000e+01,\n",
              "        4.4000e+01, 3.7000e+01, 4.1000e+01, 4.0000e+01, 2.9000e+01,\n",
              "        3.0000e+01, 3.5000e+01, 3.4000e+01, 3.3000e+01, 2.8000e+01,\n",
              "        2.8000e+01, 2.9000e+01, 3.2000e+01, 3.1000e+01, 2.9000e+01,\n",
              "        2.5000e+01, 3.0000e+01, 1.8000e+01, 2.9000e+01, 3.4000e+01,\n",
              "        2.7000e+01, 3.3000e+01, 1.8000e+01, 2.9000e+01, 2.4000e+01,\n",
              "        3.5000e+01, 3.8000e+01, 4.1000e+01, 3.2000e+01, 5.5000e+01,\n",
              "        5.8000e+01, 6.1000e+01, 7.1000e+01, 6.6000e+01, 8.6000e+01,\n",
              "        1.3000e+02, 1.6600e+02, 2.6100e+02, 4.8700e+02, 2.0721e+04]),\n",
              " array([-1.  , -0.96, -0.92, -0.88, -0.84, -0.8 , -0.76, -0.72, -0.68,\n",
              "        -0.64, -0.6 , -0.56, -0.52, -0.48, -0.44, -0.4 , -0.36, -0.32,\n",
              "        -0.28, -0.24, -0.2 , -0.16, -0.12, -0.08, -0.04,  0.  ,  0.04,\n",
              "         0.08,  0.12,  0.16,  0.2 ,  0.24,  0.28,  0.32,  0.36,  0.4 ,\n",
              "         0.44,  0.48,  0.52,  0.56,  0.6 ,  0.64,  0.68,  0.72,  0.76,\n",
              "         0.8 ,  0.84,  0.88,  0.92,  0.96,  1.  ]),\n",
              " <BarContainer object of 50 artists>)"
            ]
          },
          "metadata": {},
          "execution_count": 37
        },
        {
          "output_type": "display_data",
          "data": {
            "text/plain": [
              "<Figure size 640x480 with 1 Axes>"
            ],
            "image/png": "[encoded data removed]"
          },
          "metadata": {}
        }
      ]
    },
    {
      "cell_type": "code",
      "source": [
        "plt.imshow(h.abs() > 0.99, cmap='gray')"
      ],
      "metadata": {
        "colab": {
          "base_uri": "https://localhost:8080/",
          "height": 452
        },
        "id": "pGuaOiBREmVX",
        "outputId": "5eeb1d2b-7264-4f2f-ac58-6c3465c3c62b"
      },
      "execution_count": null,
      "outputs": [
        {
          "output_type": "execute_result",
          "data": {
            "text/plain": [
              "<matplotlib.image.AxesImage at 0x792d35623fa0>"
            ]
          },
          "metadata": {},
          "execution_count": 38
        },
        {
          "output_type": "display_data",
          "data": {
            "text/plain": [
              "<Figure size 640x480 with 1 Axes>"
            ],
            "image/png": "[encoded data removed]"
          },
          "metadata": {}
        }
      ]
    },
    {
      "cell_type": "code",
      "source": [
        "Xdev"
      ],
      "metadata": {
        "colab": {
          "base_uri": "https://localhost:8080/"
        },
        "id": "b8vctY-nzTd6",
        "outputId": "7ae14cf7-1b56-4009-d93a-1c4e22eb3c08"
      },
      "execution_count": null,
      "outputs": [
        {
          "output_type": "execute_result",
          "data": {
            "text/plain": [
              "tensor([[ 9, 12, 11,  5,  7,  9,  9,  9,  7,  7,  9,  8,  9,  9,  8],\n",
              "        [12, 11,  5,  7, 10,  9,  9,  7,  7, 10,  8,  9,  9,  8,  9],\n",
              "        [11,  5,  7, 10,  7,  9,  7,  7, 10,  8,  9,  9,  8,  9,  9],\n",
              "        [ 5,  7, 10,  7,  8,  7,  7, 10,  8, 10,  9,  8,  9,  9,  8],\n",
              "        [ 7, 10,  7,  8, 10,  7, 10,  8, 10,  9,  8,  9,  9,  8,  8]])"
            ]
          },
          "metadata": {},
          "execution_count": 39
        }
      ]
    },
    {
      "cell_type": "code",
      "source": [
        "itos"
      ],
      "metadata": {
        "colab": {
          "base_uri": "https://localhost:8080/"
        },
        "id": "SSnQqsfh3GMi",
        "outputId": "3f9b2d75-e6d1-4f93-cfe4-94d9aa1a374f"
      },
      "execution_count": null,
      "outputs": [
        {
          "output_type": "execute_result",
          "data": {
            "text/plain": [
              "{0: 'P',\n",
              " 1: 'O',\n",
              " 2: 'N',\n",
              " 3: 'M',\n",
              " 4: 'L',\n",
              " 5: 'K',\n",
              " 6: 'J',\n",
              " 7: 'I',\n",
              " 8: 'H',\n",
              " 9: 'G',\n",
              " 10: 'F',\n",
              " 11: 'E',\n",
              " 12: 'D',\n",
              " 13: 'C',\n",
              " 14: 'B',\n",
              " 15: 'A'}"
            ]
          },
          "metadata": {},
          "execution_count": 40
        }
      ]
    },
    {
      "cell_type": "code",
      "source": [
        "import random\n",
        "\n",
        "g = torch.Generator().manual_seed(42)\n",
        "ind = 0\n",
        "out, outreal = [], []\n",
        "for xi in Xdev:\n",
        "    context = xi.tolist()\n",
        "    ix = 0\n",
        "\n",
        "    print(context)\n",
        "    emb = C[torch.tensor(context)]\n",
        "    h = torch.tanh(emb.view(-1, input_size) @ W1 + b1)\n",
        "    logits = h @ W2 + b2\n",
        "    probs = F.softmax(logits,dim=1)\n",
        "    ix = torch.multinomial(probs, num_samples=1, replacement=True, generator=g).item()\n",
        "\n",
        "    ixr = random.randint(0,len(labels)-1)\n",
        "\n",
        "    print(itos[ix] +' -> ' + itos[Ydev[ind].item()])\n",
        "    print(ix, Ydev[ind].item(), ix-Ydev[ind].item())\n",
        "\n",
        "    print(itos[ixr] +' r-> ' + itos[Ydev[ind].item()])\n",
        "    print(ixr, Ydev[ind].item(), ixr-Ydev[ind].item())\n",
        "    out.append(ix)\n",
        "    outreal.append(Ydev[ind].item())\n",
        "\n",
        "    ind += 1\n",
        "    print('---')\n"
      ],
      "metadata": {
        "colab": {
          "base_uri": "https://localhost:8080/"
        },
        "id": "JCGG_2jrv8ZW",
        "outputId": "ed803e81-980e-4f41-83c4-06876091c822"
      },
      "execution_count": null,
      "outputs": [
        {
          "output_type": "stream",
          "name": "stdout",
          "text": [
            "[9, 12, 11, 5, 7, 9, 9, 9, 7, 7, 9, 8, 9, 9, 8]\n",
            "I -> F\n",
            "7 10 -3\n",
            "A r-> F\n",
            "15 10 5\n",
            "---\n",
            "[12, 11, 5, 7, 10, 9, 9, 7, 7, 10, 8, 9, 9, 8, 9]\n",
            "I -> I\n",
            "7 7 0\n",
            "K r-> I\n",
            "5 7 -2\n",
            "---\n",
            "[11, 5, 7, 10, 7, 9, 7, 7, 10, 8, 9, 9, 8, 9, 9]\n",
            "K -> H\n",
            "5 8 -3\n",
            "H r-> H\n",
            "8 8 0\n",
            "---\n",
            "[5, 7, 10, 7, 8, 7, 7, 10, 8, 10, 9, 8, 9, 9, 8]\n",
            "E -> F\n",
            "11 10 1\n",
            "H r-> F\n",
            "8 10 -2\n",
            "---\n",
            "[7, 10, 7, 8, 10, 7, 10, 8, 10, 9, 8, 9, 9, 8, 8]\n",
            "I -> F\n",
            "7 10 -3\n",
            "D r-> F\n",
            "12 10 2\n",
            "---\n"
          ]
        }
      ]
    },
    {
      "cell_type": "code",
      "source": [
        "plt.plot(out, color='blue')\n",
        "plt.plot(outreal, color='red')\n",
        "plt.show()"
      ],
      "metadata": {
        "colab": {
          "base_uri": "https://localhost:8080/",
          "height": 430
        },
        "id": "akjFCcB3YOD1",
        "outputId": "77516ded-0b24-41f6-e0be-a3c12b687178"
      },
      "execution_count": null,
      "outputs": [
        {
          "output_type": "display_data",
          "data": {
            "text/plain": [
              "<Figure size 640x480 with 1 Axes>"
            ],
            "image/png": "[encoded data removed]"
          },
          "metadata": {}
        }
      ]
    },
    {
      "cell_type": "markdown",
      "source": [
        " # Pasando en limpio y generando los métodos\n",
        " Embedding, Linear y Tanh"
      ],
      "metadata": {
        "id": "6w5t7TxbFxrt"
      }
    },
    {
      "cell_type": "code",
      "source": [
        "class Embedding():\n",
        "    def __init__(self, n_embeddings, embedding_dimension):\n",
        "        self.weight = torch.randn((n_embeddings, embedding_dimension))\n",
        "\n",
        "    def __call__(self, x):\n",
        "        self.out = self.weight[x]\n",
        "        self.out = self.out.view(self.out.shape[0], -1)\n",
        "        return self.out\n",
        "\n",
        "    def parameters(self):\n",
        "        return [self.weight]\n",
        "\n",
        "\n",
        "class Linear():\n",
        "    def __init__(self, fan_in, fan_out, bias=True):\n",
        "        self.weight = torch.randn((fan_in, fan_out))\n",
        "        self.bias = torch.zeros(fan_out) if bias else None\n",
        "\n",
        "    def __call__(self, x):\n",
        "        self.out = x @ self.weight\n",
        "        if self.bias is not None:\n",
        "            self.out += self.bias\n",
        "        return self.out\n",
        "\n",
        "    def parameters(self):\n",
        "        return [self.weight] + ([] if self.bias is None else [self.bias])\n",
        "\n",
        "\n",
        "class Tanh():\n",
        "    def __call__(self, x):\n",
        "        self.out = torch.tanh(x)\n",
        "        return self.out\n",
        "\n",
        "    def parameters(self):\n",
        "        return []"
      ],
      "metadata": {
        "id": "unMDOsAiEyyy"
      },
      "execution_count": null,
      "outputs": []
    },
    {
      "cell_type": "code",
      "source": [
        "n_hidden = 128\n",
        "\n",
        "model = [\n",
        "    Embedding(context_len, emb_d),\n",
        "    Linear(input_size, n_hidden), Tanh(),\n",
        "    Linear(n_hidden, context_len)\n",
        "]\n",
        "\n",
        "parameters = [p for layer in model for p in layer.parameters()]\n",
        "for p in parameters:\n",
        "    p.requires_grad = True\n",
        "print(f'Number of parameters: {sum((p.nelement() for p in parameters))}')"
      ],
      "metadata": {
        "id": "k8YWjb9wE5wo"
      },
      "execution_count": null,
      "outputs": []
    },
    {
      "cell_type": "code",
      "source": [
        "Ytr"
      ],
      "metadata": {
        "id": "zN4xP6AtIwbp"
      },
      "execution_count": null,
      "outputs": []
    },
    {
      "cell_type": "code",
      "source": [
        "train_iterations = 100000\n",
        "minibatch_size = 64\n",
        "loss_log = []\n",
        "\n",
        "for i in range(train_iterations):\n",
        "    # training loop en mini batches\n",
        "    # ix = torch.randint(0, len(Xtr), (minibatch_size,))\n",
        "    # Xb, Yb = Xtr[ix], Ytr[ix]\n",
        "    # x = Xb\n",
        "    x = Xtr\n",
        "    # forward pass\n",
        "    for layer in model:\n",
        "        x = layer(x)\n",
        "    loss = F.cross_entropy(x, Ytr)\n",
        "\n",
        "    # backward pass\n",
        "    for layer in model:\n",
        "        layer.out.retain_grad()\n",
        "    for p in parameters:\n",
        "        p.grad = None\n",
        "    loss.backward()\n",
        "\n",
        "    # update\n",
        "    lr = 0.1 if i < 100000 else 0.01\n",
        "    for p in parameters:\n",
        "        p.data += -lr * p.grad\n",
        "\n",
        "    if i % 10000 == 0:\n",
        "        print(f'Step: {i:7d}/{train_iterations:7d} -- loss: {loss.item():.6f}')\n",
        "    loss_log.append(loss.log10().item())\n",
        "print(loss.item())"
      ],
      "metadata": {
        "id": "Q_bLJNuS4l6W"
      },
      "execution_count": null,
      "outputs": []
    },
    {
      "cell_type": "code",
      "source": [],
      "metadata": {
        "id": "cjM54aeKGcgT"
      },
      "execution_count": null,
      "outputs": []
    }
  ]
}